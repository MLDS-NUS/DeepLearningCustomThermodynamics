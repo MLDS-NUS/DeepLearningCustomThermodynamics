{
 "cells": [
  {
   "cell_type": "code",
   "execution_count": 1,
   "id": "8a00dfb1",
   "metadata": {},
   "outputs": [
    {
     "name": "stderr",
     "output_type": "stream",
     "text": [
      "2024-08-25 22:42:39.192204: I tensorflow/core/platform/cpu_feature_guard.cc:193] This TensorFlow binary is optimized with oneAPI Deep Neural Network Library (oneDNN) to use the following CPU instructions in performance-critical operations:  AVX2 AVX512F AVX512_VNNI FMA\n",
      "To enable them in other operations, rebuild TensorFlow with the appropriate compiler flags.\n",
      "2024-08-25 22:42:39.323344: I tensorflow/core/util/util.cc:169] oneDNN custom operations are on. You may see slightly different numerical results due to floating-point round-off errors from different computation orders. To turn them off, set the environment variable `TF_ENABLE_ONEDNN_OPTS=0`.\n",
      "2024-08-25 22:42:39.348273: E tensorflow/stream_executor/cuda/cuda_blas.cc:2981] Unable to register cuBLAS factory: Attempting to register factory for plugin cuBLAS when one has already been registered\n",
      "2024-08-25 22:42:39.851292: W tensorflow/stream_executor/platform/default/dso_loader.cc:64] Could not load dynamic library 'libnvinfer.so.7'; dlerror: libnvinfer.so.7: cannot open shared object file: No such file or directory\n",
      "2024-08-25 22:42:39.851333: W tensorflow/stream_executor/platform/default/dso_loader.cc:64] Could not load dynamic library 'libnvinfer_plugin.so.7'; dlerror: libnvinfer_plugin.so.7: cannot open shared object file: No such file or directory\n",
      "2024-08-25 22:42:39.851337: W tensorflow/compiler/tf2tensorrt/utils/py_utils.cc:38] TF-TRT Warning: Cannot dlopen some TensorRT libraries. If you would like to use Nvidia GPU with TensorRT, please make sure the missing libraries mentioned above are installed properly.\n"
     ]
    }
   ],
   "source": [
    "#import tensorflow.compat.v1 as tf\n",
    "#tf.disable_v2_behavior()\n",
    "import tensorflow as tf\n",
    "import numpy as np\n",
    "#import scipy.special as sci\n",
    "import matplotlib.pyplot as plt\n",
    "import pickle#5 as pickle\n",
    "import matplotlib as mpl\n",
    "from numpy import linalg as LA"
   ]
  },
  {
   "cell_type": "code",
   "execution_count": 2,
   "id": "18f2b33b",
   "metadata": {},
   "outputs": [],
   "source": [
    "import os\n",
    "os.environ['TF_FORCE_GPU_ALLOW_GROWTH']='true'\n",
    "os.environ['CUDA_VISIBLE_DEVICES'] = \"0\""
   ]
  },
  {
   "cell_type": "code",
   "execution_count": 3,
   "id": "3fd1a95c",
   "metadata": {},
   "outputs": [],
   "source": [
    "import seaborn as sns\n",
    "sns.set_context(\"notebook\", font_scale=2.1, rc={\"lines.linewidth\":2.5})\n",
    "pad=20"
   ]
  },
  {
   "cell_type": "code",
   "execution_count": 4,
   "id": "cb13c350",
   "metadata": {},
   "outputs": [],
   "source": [
    "#tf.compat.v1.random.set_random_seed(1234)\n",
    "#tf.random.set_random_seed(0)\n",
    "np.random.seed(seed=0 )"
   ]
  },
  {
   "cell_type": "code",
   "execution_count": 5,
   "id": "5ace5ba3",
   "metadata": {},
   "outputs": [],
   "source": [
    "def xavier_init(size):\n",
    "    in_dim = size[0]\n",
    "    out_dim = size[1]        \n",
    "    xavier_stddev = np.sqrt(2.0/(in_dim + out_dim))\n",
    "    return tf.Variable(tf.truncated_normal([in_dim, out_dim], stddev=xavier_stddev,dtype=tf.float32,seed=0), dtype=tf.float32)\n",
    "    \n",
    "def xavier_init_small(size):\n",
    "    in_dim = size[0]\n",
    "    out_dim = size[1]        \n",
    "    xavier_stddev = 0.01*np.sqrt(2.0/(in_dim + out_dim))\n",
    "    return tf.Variable(tf.truncated_normal([in_dim, out_dim], stddev=xavier_stddev,dtype=tf.float32,seed=0), dtype=tf.float32)    \n",
    "    \n",
    "def RePU(inputs):\n",
    "    \"\"\"Rectified Power Unit Activation\n",
    "\n",
    "    z->max(0,z)^p\n",
    "    \"\"\"\n",
    "    return (tf.nn.relu(inputs)  )**2\n",
    "\n",
    "\n",
    "def ShiftedRePU(inputs):\n",
    "    \"\"\"Shifted Rectified Power Unit Activation\n",
    "\n",
    "    z->max(0,z)^p - max(0,z-0.5)^p\n",
    "    \"\"\"\n",
    "    g=(tf.nn.relu(inputs)  )**2-(tf.nn.relu(inputs-0.5)  )**2\n",
    "    return g    \n",
    "       \n",
    "# generate $\\phi$\n",
    "#Neural network for potential term $V(x)=\\beta  ||x||^2 +\\frac{1}{2} \\sum_{i=1}^{m} (U_i(x)+\\sum_{j=1}^m \\gamma_{i,j}x_i)^2$ where $U_i(x)=w \\phi_i(x)+b$\n",
    "def neural_potential(X, weights, biases,Gamma,beta):\n",
    "    num_layers = len(weights) + 1  \n",
    "    H=X\n",
    "    for l in range(0,num_layers-2):\n",
    "        W = weights[l]\n",
    "        b = biases[l]\n",
    "        H = ShiftedRePU(tf.add(tf.matmul(H, W), b))\n",
    "    W = weights[-1]\n",
    "    b = biases[-1]\n",
    "    Y = 1/2*tf.reduce_sum( ( tf.matmul(X, Gamma[0])   +(tf.add(tf.matmul(H, W), b)) )**2 ,1, keepdims=True)+beta[0]*tf.reduce_sum(X**2, axis=1, keepdims=True)\n",
    "    return Y\n"
   ]
  },
  {
   "cell_type": "code",
   "execution_count": 6,
   "id": "dc78efc1",
   "metadata": {},
   "outputs": [],
   "source": [
    "def compute_gradient(X, weights, biases, Gamma, beta):\n",
    "    with tf.GradientTape() as tape:\n",
    "        tape.watch(X)\n",
    "        potential = neural_potential(X, weights, biases, Gamma, beta)\n",
    "    gradient = tape.gradient(potential, X)\n",
    "    return gradient"
   ]
  },
  {
   "cell_type": "code",
   "execution_count": 7,
   "id": "1e222e6c",
   "metadata": {},
   "outputs": [
    {
     "name": "stderr",
     "output_type": "stream",
     "text": [
      "2024-08-25 22:42:41.514302: I tensorflow/core/platform/cpu_feature_guard.cc:193] This TensorFlow binary is optimized with oneAPI Deep Neural Network Library (oneDNN) to use the following CPU instructions in performance-critical operations:  AVX2 AVX512F AVX512_VNNI FMA\n",
      "To enable them in other operations, rebuild TensorFlow with the appropriate compiler flags.\n",
      "2024-08-25 22:42:41.954418: W tensorflow/core/common_runtime/gpu/gpu_bfc_allocator.cc:42] Overriding orig_value setting because the TF_FORCE_GPU_ALLOW_GROWTH environment variable is set. Original config value was 0.\n",
      "2024-08-25 22:42:41.954456: I tensorflow/core/common_runtime/gpu/gpu_device.cc:1616] Created device /job:localhost/replica:0/task:0/device:GPU:0 with 22278 MB memory:  -> device: 0, name: NVIDIA GeForce RTX 3090, pci bus id: 0000:19:00.0, compute capability: 8.6\n"
     ]
    },
    {
     "name": "stdout",
     "output_type": "stream",
     "text": [
      "[[-0.15960693  0.3548584  -0.00251341]]\n"
     ]
    },
    {
     "name": "stderr",
     "output_type": "stream",
     "text": [
      "2024-08-25 22:42:42.447573: I tensorflow/stream_executor/cuda/cuda_blas.cc:1614] TensorFloat-32 will be used for the matrix multiplication. This will only be logged once.\n"
     ]
    }
   ],
   "source": [
    "X = tf.cast(np.array([0.55778486, 1.70096483, 0.19261997])[None,:], dtype=tf.float32)\n",
    "\n",
    "i=200000\n",
    "open_file=open( '../saved_checkpoints/hyper100000.pkl', \"rb\")  \n",
    "data= pickle.load(open_file)\n",
    "weights=data['weights_potential']\n",
    "biases=data['biases_potential']\n",
    "Gamma=data['Gamma']\n",
    "beta =data['beta']\n",
    "\n",
    "\n",
    "grad = compute_gradient(X, weights, biases, Gamma, beta)\n",
    "import tensorflow as tf\n",
    "grad_numpy = grad.numpy()\n",
    "print(grad_numpy)"
   ]
  },
  {
   "cell_type": "code",
   "execution_count": null,
   "id": "2063d38e",
   "metadata": {},
   "outputs": [],
   "source": []
  },
  {
   "cell_type": "code",
   "execution_count": null,
   "id": "5a082795",
   "metadata": {},
   "outputs": [],
   "source": []
  },
  {
   "cell_type": "code",
   "execution_count": null,
   "id": "7c719e90",
   "metadata": {},
   "outputs": [],
   "source": []
  },
  {
   "cell_type": "code",
   "execution_count": null,
   "id": "20067689",
   "metadata": {},
   "outputs": [],
   "source": []
  }
 ],
 "metadata": {
  "kernelspec": {
   "display_name": "chen_env",
   "language": "python",
   "name": "chen_env"
  },
  "language_info": {
   "codemirror_mode": {
    "name": "ipython",
    "version": 3
   },
   "file_extension": ".py",
   "mimetype": "text/x-python",
   "name": "python",
   "nbconvert_exporter": "python",
   "pygments_lexer": "ipython3",
   "version": "3.8.8"
  }
 },
 "nbformat": 4,
 "nbformat_minor": 5
}
