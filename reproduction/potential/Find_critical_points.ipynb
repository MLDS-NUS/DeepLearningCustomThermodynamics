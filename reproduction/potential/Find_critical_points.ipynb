{
 "cells": [
  {
   "cell_type": "code",
   "execution_count": 2,
   "id": "292716c4",
   "metadata": {},
   "outputs": [],
   "source": [
    "import tensorflow.compat.v1 as tf\n",
    "tf.disable_v2_behavior()\n",
    "import numpy as np\n",
    "import matplotlib.pyplot as plt\n",
    "import pickle#5 as pickle\n",
    "import matplotlib as mpl\n",
    "from numpy import linalg as LA\n",
    "from scipy.optimize import minimize"
   ]
  },
  {
   "cell_type": "code",
   "execution_count": 3,
   "id": "ae86713f",
   "metadata": {},
   "outputs": [],
   "source": [
    "import os\n",
    "os.environ['TF_FORCE_GPU_ALLOW_GROWTH']='true'\n",
    "os.environ['CUDA_VISIBLE_DEVICES'] = \"0\""
   ]
  },
  {
   "cell_type": "code",
   "execution_count": 4,
   "id": "a7875b76",
   "metadata": {},
   "outputs": [],
   "source": [
    "Z_mean=208.21994500581388\n",
    "Z_std= 69.79624239435213"
   ]
  },
  {
   "cell_type": "code",
   "execution_count": 5,
   "id": "64a300b2",
   "metadata": {},
   "outputs": [],
   "source": [
    "def relu(inputs):\n",
    "    return np.maximum(inputs,0)\n",
    "def RePU(inputs):\n",
    "    \"\"\"Rectified Power Unit Activation\n",
    "\n",
    "    z->max(0,z)^p\n",
    "    \"\"\"\n",
    "    return (relu(inputs)  )**2\n",
    "\n",
    "\n",
    "def ShiftedRePU(inputs):\n",
    "    \"\"\"Shifted Rectified Power Unit Activation\n",
    "\n",
    "    z->max(0,z)^p - max(0,z-0.5)^p\n",
    "    \"\"\"\n",
    "    g=(relu(inputs)  )**2-(relu(inputs-0.5)  )**2\n",
    "    return g"
   ]
  },
  {
   "cell_type": "code",
   "execution_count": 6,
   "id": "2314363a",
   "metadata": {},
   "outputs": [],
   "source": [
    "def neural_potential(X, weights, biases,Gamma,beta):\n",
    "    num_layers = len(weights) + 1  \n",
    "    H=X\n",
    "    for l in range(0,num_layers-2):\n",
    "        W = weights[l]\n",
    "        b = biases[l]\n",
    "        H = ShiftedRePU(np.add(H@ W, b))\n",
    "    W = weights[-1]\n",
    "    b = biases[-1]\n",
    "    Y = 1/2*np.sum( (X@Gamma[0]  +(np.add((H@W), b)) )**2 ,1, keepdims=True)+beta[0]*np.sum(X**2, axis=1, keepdims=True)\n",
    "    return Y"
   ]
  },
  {
   "cell_type": "code",
   "execution_count": 7,
   "id": "feb080a3",
   "metadata": {},
   "outputs": [],
   "source": [
    "def neural_Jocabi1(X ):\n",
    "    open_file=open( '../saved_checkpoints/hyper100000.pkl', \"rb\")  \n",
    "    data= pickle.load(open_file)\n",
    "    weights_potential=data['weights_potential']\n",
    "    biases_potential=data['biases_potential']\n",
    "    Gamma=data['Gamma']\n",
    "    beta =data['beta']\n",
    "\n",
    "    weights_A=data['weights_A']\n",
    "    biases_A=data['biases_A']\n",
    "    dim_low=3\n",
    "    alpha=0.1\n",
    "    \n",
    "    dx=0.00001\n",
    "    dx1=np.array([dx,0,0])[None,:]\n",
    "    dx2=np.array([0,dx,0])[None,:]\n",
    "    dx3=np.array([0,0,dx])[None,:]\n",
    "    a1=(neural_potential(X+dx1, weights_potential, biases_potential,Gamma,beta)-\n",
    "         neural_potential(X-dx1, weights_potential, biases_potential,Gamma,beta))/(2*dx)\n",
    "    a2=(neural_potential(X+dx2, weights_potential, biases_potential,Gamma,beta)-\n",
    "         neural_potential(X -dx2, weights_potential, biases_potential,Gamma,beta)  )/( 2*dx)\n",
    "    a3=(neural_potential(X+dx3, weights_potential, biases_potential,Gamma,beta)-\n",
    "         neural_potential(X -dx3, weights_potential, biases_potential,Gamma,beta)  )/(2*dx)\n",
    "    V_x=np.array([ a1[0][0],a2[0][0],a3[0][0]] )[None,:] \n",
    "\n",
    "    return  V_x"
   ]
  },
  {
   "cell_type": "code",
   "execution_count": 8,
   "id": "8f4a4cf8",
   "metadata": {},
   "outputs": [],
   "source": [
    "def neural_Jocabi(X ):\n",
    "    open_file=open( '../saved_checkpoints/hyper100000.pkl', \"rb\")  \n",
    "    data= pickle.load(open_file)\n",
    "    weights_potential=data['weights_potential']\n",
    "    biases_potential=data['biases_potential']\n",
    "    Gamma=data['Gamma']\n",
    "    beta =data['beta']\n",
    "\n",
    "    weights_A=data['weights_A']\n",
    "    biases_A=data['biases_A']\n",
    "    dim_low=3\n",
    "    alpha=0.1\n",
    "    \n",
    "    dx=0.00001\n",
    "    dx1=np.array([dx,0,0])[None,:]\n",
    "    dx2=np.array([0,dx,0])[None,:]\n",
    "    dx3=np.array([0,0,dx])[None,:]\n",
    "    a1=(neural_potential(X+dx1, weights_potential, biases_potential,Gamma,beta)-\n",
    "         neural_potential(X-dx1, weights_potential, biases_potential,Gamma,beta))/(2*dx)\n",
    "    a2=(neural_potential(X+dx2, weights_potential, biases_potential,Gamma,beta)-\n",
    "         neural_potential(X -dx2, weights_potential, biases_potential,Gamma,beta)  )/( 2*dx)\n",
    "    a3=(neural_potential(X+dx3, weights_potential, biases_potential,Gamma,beta)-\n",
    "         neural_potential(X -dx3, weights_potential, biases_potential,Gamma,beta)  )/(2*dx)\n",
    "    V_x=np.array([ a1[0][0],a2[0][0],a3[0][0]] )[None,:]\n",
    "    #rhs=-V_x @(M+W)- alpha * V_x + f  \n",
    "    #rhs=-((M+W)@V_x[:,:,None])[:,:,0]- alpha * V_x + f  \n",
    "\n",
    "    return  (a1[0][0])**2+(a2[0][0])**2+(a3[0][0])**2"
   ]
  },
  {
   "cell_type": "code",
   "execution_count": 9,
   "id": "8898c212",
   "metadata": {},
   "outputs": [],
   "source": [
    "open_file=open( '../saved_checkpoints/hyper100000.pkl', \"rb\")  \n",
    "data= pickle.load(open_file)\n",
    "weights_potential=data['weights_potential']\n",
    "biases_potential=data['biases_potential']\n",
    "Gamma=data['Gamma']\n",
    "beta =data['beta']"
   ]
  },
  {
   "cell_type": "code",
   "execution_count": 10,
   "id": "ff8e0341",
   "metadata": {},
   "outputs": [],
   "source": [
    "x=np.array([0.6,-1.7,0])[:,None]"
   ]
  },
  {
   "cell_type": "code",
   "execution_count": 11,
   "id": "408ebe02",
   "metadata": {},
   "outputs": [],
   "source": [
    "# minimize(neural_Jocabi, x, method='nelder-mead',\n",
    "#                optionsxa={'xatol': 1e-5, 'disp': True})"
   ]
  },
  {
   "cell_type": "code",
   "execution_count": 12,
   "id": "e8d69c75",
   "metadata": {},
   "outputs": [
    {
     "name": "stdout",
     "output_type": "stream",
     "text": [
      "Warning: Desired error not necessarily achieved due to precision loss.\n",
      "         Current function value: 0.000000\n",
      "         Iterations: 15\n",
      "         Function evaluations: 219\n",
      "         Gradient evaluations: 52\n"
     ]
    },
    {
     "name": "stderr",
     "output_type": "stream",
     "text": [
      "/tmp/ipykernel_2192662/811198562.py:1: DeprecationWarning: Use of `minimize` with `x0.ndim != 1` is deprecated. Currently, singleton dimensions will be removed from `x0`, but an error will be raised in SciPy 1.11.0.\n",
      "  res = minimize(neural_Jocabi,x, method='BFGS',\n"
     ]
    }
   ],
   "source": [
    "res = minimize(neural_Jocabi,x, method='BFGS',\n",
    "               options={'disp': True})"
   ]
  },
  {
   "cell_type": "code",
   "execution_count": 13,
   "id": "bc6dba04",
   "metadata": {},
   "outputs": [
    {
     "data": {
      "text/plain": [
       "array([[ 2.24183339e-05, -1.90503613e-05,  3.03188585e-06]])"
      ]
     },
     "execution_count": 13,
     "metadata": {},
     "output_type": "execute_result"
    }
   ],
   "source": [
    "neural_Jocabi1(res.x )"
   ]
  },
  {
   "cell_type": "code",
   "execution_count": 14,
   "id": "daf042f8",
   "metadata": {},
   "outputs": [
    {
     "data": {
      "text/plain": [
       "(8.746902899271848e-10,\n",
       " array([ 0.55981302, -1.69935656, -0.16578137]),\n",
       " array([[ 2.24183339e-05, -1.90503613e-05,  3.03188585e-06]]))"
      ]
     },
     "execution_count": 14,
     "metadata": {},
     "output_type": "execute_result"
    }
   ],
   "source": [
    "neural_Jocabi(res.x),res.x,neural_Jocabi1(res.x)"
   ]
  },
  {
   "cell_type": "code",
   "execution_count": 15,
   "id": "8255a1a9",
   "metadata": {},
   "outputs": [
    {
     "name": "stdout",
     "output_type": "stream",
     "text": [
      "The critical point is [ 0.55981302 -1.69935656 -0.16578137]\n"
     ]
    }
   ],
   "source": [
    "print('The critical point is',res.x)"
   ]
  },
  {
   "cell_type": "code",
   "execution_count": null,
   "id": "1c4bc636",
   "metadata": {},
   "outputs": [],
   "source": []
  },
  {
   "cell_type": "code",
   "execution_count": 16,
   "id": "f1a1fe11",
   "metadata": {},
   "outputs": [],
   "source": [
    "x=np.array([0.6,1.7,0])[:,None]"
   ]
  },
  {
   "cell_type": "code",
   "execution_count": 17,
   "id": "f0c55467",
   "metadata": {},
   "outputs": [
    {
     "name": "stdout",
     "output_type": "stream",
     "text": [
      "Warning: Desired error not necessarily achieved due to precision loss.\n",
      "         Current function value: 0.000000\n",
      "         Iterations: 13\n",
      "         Function evaluations: 204\n",
      "         Gradient evaluations: 48\n"
     ]
    },
    {
     "name": "stderr",
     "output_type": "stream",
     "text": [
      "/tmp/ipykernel_2192662/811198562.py:1: DeprecationWarning: Use of `minimize` with `x0.ndim != 1` is deprecated. Currently, singleton dimensions will be removed from `x0`, but an error will be raised in SciPy 1.11.0.\n",
      "  res = minimize(neural_Jocabi,x, method='BFGS',\n"
     ]
    }
   ],
   "source": [
    "res = minimize(neural_Jocabi,x, method='BFGS',\n",
    "               options={'disp': True})"
   ]
  },
  {
   "cell_type": "code",
   "execution_count": 18,
   "id": "f56e0182",
   "metadata": {},
   "outputs": [
    {
     "name": "stdout",
     "output_type": "stream",
     "text": [
      "The critical point is [0.55778027 1.70096278 0.19261677]\n"
     ]
    }
   ],
   "source": [
    "print('The critical point is',res.x)"
   ]
  },
  {
   "cell_type": "code",
   "execution_count": null,
   "id": "03b9a541",
   "metadata": {},
   "outputs": [],
   "source": []
  },
  {
   "cell_type": "code",
   "execution_count": 19,
   "id": "de3063fe",
   "metadata": {},
   "outputs": [],
   "source": [
    "x=np.array([-2,0,4])[:,None]"
   ]
  },
  {
   "cell_type": "code",
   "execution_count": 20,
   "id": "22c14b0c",
   "metadata": {},
   "outputs": [
    {
     "name": "stdout",
     "output_type": "stream",
     "text": [
      "Optimization terminated successfully.\n",
      "         Current function value: 0.000000\n",
      "         Iterations: 15\n",
      "         Function evaluations: 84\n",
      "         Gradient evaluations: 21\n"
     ]
    },
    {
     "name": "stderr",
     "output_type": "stream",
     "text": [
      "/tmp/ipykernel_2192662/811198562.py:1: DeprecationWarning: Use of `minimize` with `x0.ndim != 1` is deprecated. Currently, singleton dimensions will be removed from `x0`, but an error will be raised in SciPy 1.11.0.\n",
      "  res = minimize(neural_Jocabi,x, method='BFGS',\n"
     ]
    }
   ],
   "source": [
    "res = minimize(neural_Jocabi,x, method='BFGS',\n",
    "               options={'disp': True})"
   ]
  },
  {
   "cell_type": "code",
   "execution_count": 21,
   "id": "2809d4f0",
   "metadata": {},
   "outputs": [
    {
     "name": "stdout",
     "output_type": "stream",
     "text": [
      "The critical point is [-1.75271383 -0.04992505  4.12591909]\n"
     ]
    }
   ],
   "source": [
    "print('The critical point is',res.x)"
   ]
  },
  {
   "cell_type": "code",
   "execution_count": null,
   "id": "33d97731",
   "metadata": {},
   "outputs": [],
   "source": []
  },
  {
   "cell_type": "code",
   "execution_count": 22,
   "id": "2b835cdb",
   "metadata": {},
   "outputs": [],
   "source": [
    "x=np.array([-2,0,-4])[:,None]"
   ]
  },
  {
   "cell_type": "code",
   "execution_count": 23,
   "id": "83aaf94e",
   "metadata": {},
   "outputs": [
    {
     "name": "stdout",
     "output_type": "stream",
     "text": [
      "Optimization terminated successfully.\n",
      "         Current function value: 0.000000\n",
      "         Iterations: 18\n",
      "         Function evaluations: 104\n",
      "         Gradient evaluations: 26\n"
     ]
    },
    {
     "name": "stderr",
     "output_type": "stream",
     "text": [
      "/tmp/ipykernel_2192662/811198562.py:1: DeprecationWarning: Use of `minimize` with `x0.ndim != 1` is deprecated. Currently, singleton dimensions will be removed from `x0`, but an error will be raised in SciPy 1.11.0.\n",
      "  res = minimize(neural_Jocabi,x, method='BFGS',\n"
     ]
    }
   ],
   "source": [
    "res = minimize(neural_Jocabi,x, method='BFGS',\n",
    "               options={'disp': True})"
   ]
  },
  {
   "cell_type": "code",
   "execution_count": 24,
   "id": "cbe56e9b",
   "metadata": {},
   "outputs": [
    {
     "name": "stdout",
     "output_type": "stream",
     "text": [
      "The critical point is [-1.7244814  -0.04084267 -4.26887697]\n"
     ]
    }
   ],
   "source": [
    "print('The critical point is',res.x)"
   ]
  },
  {
   "cell_type": "code",
   "execution_count": null,
   "id": "fd47fb6c",
   "metadata": {},
   "outputs": [],
   "source": []
  },
  {
   "cell_type": "markdown",
   "id": "5d95767a",
   "metadata": {},
   "source": [
    "# get hessian matrix"
   ]
  },
  {
   "cell_type": "code",
   "execution_count": 25,
   "id": "91aa8a5a",
   "metadata": {},
   "outputs": [],
   "source": [
    "def neural_Hessian(X):\n",
    "    open_file=open( '../saved_checkpoints/hyper100000.pkl', \"rb\")  \n",
    "    data= pickle.load(open_file)\n",
    "    weights_potential=data['weights_potential']\n",
    "    biases_potential=data['biases_potential']\n",
    "    Gamma=data['Gamma']\n",
    "    beta =data['beta']\n",
    "\n",
    "    weights_A=data['weights_A']\n",
    "    biases_A=data['biases_A']\n",
    "    dx=0.001\n",
    "    dx1=np.array([dx,0,0])[None,:]\n",
    "    dx2=np.array([0,dx,0])[None,:]\n",
    "    dx3=np.array([0,0,dx])[None,:]\n",
    "    a11=(neural_potential(X+dx1, weights_potential, biases_potential,Gamma,beta)-\n",
    "         2*neural_potential(X , weights_potential, biases_potential,Gamma,beta)+\n",
    "         neural_potential(X-dx1, weights_potential, biases_potential,Gamma,beta))/(dx**2)\n",
    "    a12=(neural_potential(X+dx2+dx1, weights_potential, biases_potential,Gamma,beta)-\n",
    "         neural_potential(X-dx2+dx1, weights_potential, biases_potential,Gamma,beta)-\n",
    "         neural_potential(X+dx2-dx1, weights_potential, biases_potential,Gamma,beta)+\n",
    "         neural_potential(X-dx2-dx1, weights_potential, biases_potential,Gamma,beta))/(4*dx**2)\n",
    "    a13=(neural_potential(X+dx3+dx1, weights_potential, biases_potential,Gamma,beta)-\n",
    "         neural_potential(X-dx3+dx1, weights_potential, biases_potential,Gamma,beta)-\n",
    "         neural_potential(X+dx3-dx1, weights_potential, biases_potential,Gamma,beta)+\n",
    "         neural_potential(X-dx3-dx1, weights_potential, biases_potential,Gamma,beta))/(4*dx**2)\n",
    "    a23=(neural_potential(X+dx2+dx3, weights_potential, biases_potential,Gamma,beta)-\n",
    "         neural_potential(X-dx2+dx3, weights_potential, biases_potential,Gamma,beta)-\n",
    "         neural_potential(X+dx2-dx3, weights_potential, biases_potential,Gamma,beta)+\n",
    "         neural_potential(X-dx2-dx3, weights_potential, biases_potential,Gamma,beta))/(4*dx**2)\n",
    "    a22=(neural_potential(X+dx2, weights_potential, biases_potential,Gamma,beta)-\n",
    "         2*neural_potential(X , weights_potential, biases_potential,Gamma,beta)+\n",
    "         neural_potential(X -dx2, weights_potential, biases_potential,Gamma,beta)  )/( dx**2)\n",
    "    a33=(neural_potential(X+dx3, weights_potential, biases_potential,Gamma,beta)-\n",
    "         2*neural_potential(X , weights_potential, biases_potential,Gamma,beta)+\n",
    "         neural_potential(X -dx3, weights_potential, biases_potential,Gamma,beta)  )/(dx**2)\n",
    "    V_x=np.array([ [a11[0][0],a12[0][0],a13[0][0]] ,  [a12[0][0],a22[0][0],a23[0][0]] , [a13[0][0],a23[0][0],a33[0][0]] ])[None,:]\n",
    "\n",
    "    return -V_x"
   ]
  },
  {
   "cell_type": "code",
   "execution_count": 32,
   "id": "27dae460",
   "metadata": {},
   "outputs": [],
   "source": [
    "X1=np.array([0.55778027, 1.70096278, 0.19261677])[None,:] #1\n",
    "X2=np.array([0.55981302, -1.69935656, -0.16578133])[None,:]     #2\n",
    "X3=np.array([-1.75271383, -0.04992505,  4.12591909])[None,:]     #3\n",
    "X4=np.array([-1.7244814,  -0.04084267, -4.26887697])[None,:]   #4\n",
    "J1=neural_Jocabi(X1)\n",
    "J2=neural_Jocabi(X2)\n",
    "J3=neural_Jocabi(X3)\n",
    "J4=neural_Jocabi(X4)"
   ]
  },
  {
   "cell_type": "code",
   "execution_count": 33,
   "id": "a0e7e503",
   "metadata": {},
   "outputs": [],
   "source": [
    "A1=neural_Hessian(X1)\n",
    "A2=neural_Hessian(X2 )\n",
    "A3=neural_Hessian(X3 )\n",
    "A4=neural_Hessian(X4 ) "
   ]
  },
  {
   "cell_type": "code",
   "execution_count": 34,
   "id": "1989853c",
   "metadata": {},
   "outputs": [],
   "source": [
    "eig_vals1, eig_vecs1 = LA.eig(A1)\n",
    "eig_vals2, eig_vecs2 = LA.eig(A2)\n",
    "eig_vals3, eig_vecs3 = LA.eig(A3)\n",
    "eig_vals4, eig_vecs4 = LA.eig(A4) "
   ]
  },
  {
   "cell_type": "code",
   "execution_count": 35,
   "id": "91cefbc1",
   "metadata": {},
   "outputs": [
    {
     "data": {
      "text/plain": [
       "(array([[-1350.46104664,  -111.47279052,   -55.44073437]]),\n",
       " array([[-1460.03927594,  -104.80231347,   -46.35605176]]),\n",
       " array([[-61.93235232,  30.54096393,  -8.68064855]]),\n",
       " array([[-206.33206224,   35.8990068 ,  -26.496126  ]]))"
      ]
     },
     "execution_count": 35,
     "metadata": {},
     "output_type": "execute_result"
    }
   ],
   "source": [
    "eig_vals1,eig_vals2,eig_vals3,eig_vals4  #stable, stable, saddle, saddle"
   ]
  },
  {
   "cell_type": "code",
   "execution_count": null,
   "id": "240617dc",
   "metadata": {},
   "outputs": [],
   "source": []
  },
  {
   "cell_type": "code",
   "execution_count": null,
   "id": "1da506cf",
   "metadata": {},
   "outputs": [],
   "source": []
  }
 ],
 "metadata": {
  "kernelspec": {
   "display_name": "chen_env",
   "language": "python",
   "name": "chen_env"
  },
  "language_info": {
   "codemirror_mode": {
    "name": "ipython",
    "version": 3
   },
   "file_extension": ".py",
   "mimetype": "text/x-python",
   "name": "python",
   "nbconvert_exporter": "python",
   "pygments_lexer": "ipython3",
   "version": "3.8.8"
  }
 },
 "nbformat": 4,
 "nbformat_minor": 5
}
