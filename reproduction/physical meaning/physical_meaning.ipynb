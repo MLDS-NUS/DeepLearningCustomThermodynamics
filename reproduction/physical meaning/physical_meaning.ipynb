{
 "cells": [
  {
   "cell_type": "code",
   "execution_count": 1,
   "id": "2f9d7c30",
   "metadata": {},
   "outputs": [
    {
     "name": "stdout",
     "output_type": "stream",
     "text": [
      "WARNING:tensorflow:From /home/xlchen/anaconda3/lib/python3.8/site-packages/tensorflow/python/compat/v2_compat.py:107: disable_resource_variables (from tensorflow.python.ops.variable_scope) is deprecated and will be removed in a future version.\n",
      "Instructions for updating:\n",
      "non-resource variables are not supported in the long term\n"
     ]
    }
   ],
   "source": [
    "import tensorflow.compat.v1 as tf\n",
    "tf.disable_v2_behavior()\n",
    "import numpy as np\n",
    "import pickle#5 as pickle\n",
    "import pandas as pd\n",
    "from numpy import linalg as LA\n",
    "import pandas as pd\n",
    "import matplotlib.pyplot as plt\n",
    "import pandas as pd"
   ]
  },
  {
   "cell_type": "code",
   "execution_count": 2,
   "id": "bc34f430",
   "metadata": {},
   "outputs": [],
   "source": [
    "def neural_autoencoder_np(X, weights, biases ):\n",
    "    num_layers = len(weights) + 1  \n",
    "    H=X\n",
    "    for l in range(0,num_layers-2):\n",
    "        W = weights[l]\n",
    "        b = biases[l]\n",
    "        H = np.tanh(np.add(np.matmul(H, W), b))\n",
    "    W = weights[-1]\n",
    "    b = biases[-1]\n",
    "    H =  (np.add(np.matmul(H, W), b))\n",
    "    return H"
   ]
  },
  {
   "cell_type": "code",
   "execution_count": 3,
   "id": "97e58a23",
   "metadata": {},
   "outputs": [],
   "source": [
    "def neural_autoencoder(X, weights, biases ):\n",
    "    num_layers = len(weights) + 1  \n",
    "    H=X\n",
    "    for l in range(0,num_layers-2):\n",
    "        W = weights[l]\n",
    "        b = biases[l]\n",
    "        H = tf.nn.tanh(tf.add(tf.matmul(H, W), b))\n",
    "    W = weights[-1]\n",
    "    b = biases[-1]\n",
    "    H =  (tf.add(tf.matmul(H, W), b))\n",
    "    return H"
   ]
  },
  {
   "cell_type": "code",
   "execution_count": 4,
   "id": "5e866534",
   "metadata": {},
   "outputs": [],
   "source": [
    "def neural_low(X, weights_encoder, biases_encoder,weights_L):\n",
    "    X_low_PCA=tf.matmul(X, weights_L)  \n",
    "    X_low_encoder= neural_autoencoder(X,weights_encoder, biases_encoder)\n",
    "    X_low= X_low_PCA+X_low_encoder\n",
    "    X_gradient_Z2=tf.gradients(tf.abs(X_low[:,0] ),X)[0]\n",
    "    X_gradient_Z3=tf.gradients(tf.abs( X_low[:,1]),X)[0]\n",
    "    return X_gradient_Z2,X_gradient_Z3"
   ]
  },
  {
   "cell_type": "code",
   "execution_count": 5,
   "id": "7acfe818",
   "metadata": {},
   "outputs": [],
   "source": [
    "def neural_low_np(X, weights_encoder, biases_encoder,weights_L):\n",
    "    X_low_PCA= X@weights_L \n",
    "    X_low_encoder= neural_autoencoder_np(X,weights_encoder, biases_encoder)\n",
    "    X_low= X_low_PCA+X_low_encoder \n",
    "    return X_low"
   ]
  },
  {
   "cell_type": "code",
   "execution_count": 6,
   "id": "e5fe3499",
   "metadata": {},
   "outputs": [],
   "source": [
    "data_learn=pickle.load(open('../saved_checkpoints/hyper100000.pkl', 'rb'))\n",
    "weights_encoder = data_learn[\"weights_encoder\"]\n",
    "biases_encoder =  data_learn[\"biases_encoder\"]\n",
    "weights_L = data_learn[\"weights_L\"][0]"
   ]
  },
  {
   "cell_type": "code",
   "execution_count": 7,
   "id": "d4ed76f5",
   "metadata": {},
   "outputs": [],
   "source": [
    "dic='../data'\n",
    "path = dic+'/config_train_mean_every.pkl'\n",
    "data=pickle.load(open(path,'rb'))"
   ]
  },
  {
   "cell_type": "code",
   "execution_count": 8,
   "id": "213dd366",
   "metadata": {},
   "outputs": [
    {
     "data": {
      "text/plain": [
       "(3003, 300)"
      ]
     },
     "execution_count": 8,
     "metadata": {},
     "output_type": "execute_result"
    }
   ],
   "source": [
    "data['Trajectory800'].shape"
   ]
  },
  {
   "cell_type": "code",
   "execution_count": 9,
   "id": "4eb98e34",
   "metadata": {},
   "outputs": [],
   "source": [
    "n=50\n",
    "tra =data['Trajectory101'][3*n:3*(n+1),:]\n",
    "ex_mean,ex_std= 208.21994500581388 ,69.79624239435213\n",
    "#tra[0,:]=(tra[0,:]-ex_mean)/ex_std\n",
    "tra1=np.reshape(tra.T,[1,900])"
   ]
  },
  {
   "cell_type": "code",
   "execution_count": 11,
   "id": "7184e60b",
   "metadata": {},
   "outputs": [],
   "source": [
    "n=500\n",
    "tra =data['Trajectory601'][3*n:3*(n+1),:]\n",
    "ex_mean,ex_std= 208.21994500581388 ,69.79624239435213\n",
    "#tra[0,:]=(tra[0,:]-ex_mean)/ex_std\n",
    "tra1=np.reshape(tra.T,[1,900])"
   ]
  },
  {
   "cell_type": "code",
   "execution_count": 12,
   "id": "de493de6",
   "metadata": {},
   "outputs": [],
   "source": [
    "X_low_PCA= tra1@weights_L \n",
    "X_low_encoder= neural_autoencoder_np(tra1,weights_encoder, biases_encoder)"
   ]
  },
  {
   "cell_type": "code",
   "execution_count": 13,
   "id": "548e412b",
   "metadata": {},
   "outputs": [
    {
     "data": {
      "text/plain": [
       "(array([[0.32109562, 5.02478452]]), array([[ 0.00215196, -0.27568551]]))"
      ]
     },
     "execution_count": 13,
     "metadata": {},
     "output_type": "execute_result"
    }
   ],
   "source": [
    "X_low_PCA,X_low_encoder"
   ]
  },
  {
   "cell_type": "code",
   "execution_count": 14,
   "id": "d085dac5",
   "metadata": {},
   "outputs": [
    {
     "data": {
      "text/plain": [
       "array([[-1.21964e-04,  1.07218e-03],\n",
       "       [ 1.64560e-07, -5.12460e-07],\n",
       "       [-1.98266e-07,  2.73699e-04],\n",
       "       ...,\n",
       "       [ 1.19131e-04,  1.08556e-03],\n",
       "       [-8.02981e-08,  3.27310e-06],\n",
       "       [ 5.29741e-07, -3.13671e-04]], dtype=float32)"
      ]
     },
     "execution_count": 14,
     "metadata": {},
     "output_type": "execute_result"
    }
   ],
   "source": [
    "weights_L "
   ]
  },
  {
   "cell_type": "code",
   "execution_count": 15,
   "id": "485d981d",
   "metadata": {},
   "outputs": [],
   "source": [
    "# X_low_PCA=np.matmul(tra1, weights_L)  \n",
    "# X_low_encoder=neural_autoencoder_np(tra1, weights_encoder , biases_encoder  )"
   ]
  },
  {
   "cell_type": "code",
   "execution_count": 16,
   "id": "7fffc4d9",
   "metadata": {},
   "outputs": [],
   "source": [
    "# X_low_encoder= neural_autoencoder(X,weights_encoder, biases_encoder)\n",
    "# X_low=X_low_PCA+X_low_encoder\n",
    "# X_gradient=tf.gradients(X_low,X)[0]"
   ]
  },
  {
   "cell_type": "code",
   "execution_count": 17,
   "id": "394b1111",
   "metadata": {},
   "outputs": [],
   "source": [
    "X_tf=tf.cast(tra1,dtype=np.float32, name=None )  "
   ]
  },
  {
   "cell_type": "code",
   "execution_count": 18,
   "id": "51133728",
   "metadata": {},
   "outputs": [],
   "source": [
    "\n",
    "\n",
    "config = tf.ConfigProto()\n",
    "config.gpu_options.allow_growth = True\n",
    "\n",
    "min_loss = 1e16\n",
    "with tf.Session(config=config) as sess:\n",
    "    u_x_pred = neural_low(X_tf, weights_encoder, biases_encoder,weights_L)\n",
    "    #u_y_pred = net_f(xf_tf,yf_tf, weights, biases,gamma  )[2]\n",
    "    #ut0=sess.run(u_pred1) \n",
    "    u_x_Z2=sess.run(u_x_pred[0])\n",
    "    u_x_Z3=sess.run(u_x_pred[1])\n",
    "    #u_y=sess.run(u_y_pred)\n",
    "    #np.savetxt('./result/u_t_opt_all-mat.txt',np.array(ut0),fmt='%10.5e')\n",
    "    #np.savetxt('u_x.txt',np.array(u_x),fmt='%10.5e') \n",
    "    #np.savetxt('./result/u_y_opt_all-mat.txt',np.array(u_y),fmt='%10.5e') "
   ]
  },
  {
   "cell_type": "code",
   "execution_count": 19,
   "id": "134bafb9",
   "metadata": {},
   "outputs": [],
   "source": [
    "# plt.plot(u_x_Z2[0],'r.')"
   ]
  },
  {
   "cell_type": "code",
   "execution_count": 20,
   "id": "71b28a7c",
   "metadata": {},
   "outputs": [],
   "source": [
    "a=np.linspace(0,897,300,dtype=int)"
   ]
  },
  {
   "cell_type": "code",
   "execution_count": 21,
   "id": "45ef2a2f",
   "metadata": {
    "scrolled": true
   },
   "outputs": [],
   "source": [
    "# plt.plot(u_x_Z3[0][:],'r.')"
   ]
  },
  {
   "cell_type": "code",
   "execution_count": 22,
   "id": "ea251fd0",
   "metadata": {},
   "outputs": [],
   "source": [
    "tra1=np.reshape(tra.T,[1,900])"
   ]
  },
  {
   "cell_type": "code",
   "execution_count": 23,
   "id": "4866eef6",
   "metadata": {},
   "outputs": [],
   "source": [
    "epsilon=100\n",
    "tra1_per_add=tra1+epsilon*u_x_Z2/np.sqrt(  np.sum(u_x_Z2**2)  )\n",
    "tra_per_add=(np.reshape(tra1_per_add,[300,3])).T\n",
    "\n",
    "tra1_per_minus=tra1-epsilon*u_x_Z2/np.sqrt(  np.sum(u_x_Z2**2)  )\n",
    "tra_per_minus=(np.reshape(tra1_per_minus,[300,3])).T"
   ]
  },
  {
   "cell_type": "code",
   "execution_count": 24,
   "id": "73c9b228",
   "metadata": {},
   "outputs": [
    {
     "data": {
      "text/plain": [
       "773.223141025543"
      ]
     },
     "execution_count": 24,
     "metadata": {},
     "output_type": "execute_result"
    }
   ],
   "source": [
    "1/np.sqrt(  np.sum(u_x_Z2**2)  )"
   ]
  },
  {
   "cell_type": "code",
   "execution_count": 25,
   "id": "37863852",
   "metadata": {
    "scrolled": true
   },
   "outputs": [
    {
     "data": {
      "text/plain": [
       "<Figure size 432x288 with 0 Axes>"
      ]
     },
     "metadata": {},
     "output_type": "display_data"
    },
    {
     "data": {
      "image/png": "[encoded data removed]",
      "text/plain": [
       "<Figure size 432x288 with 1 Axes>"
      ]
     },
     "metadata": {
      "needs_background": "light"
     },
     "output_type": "display_data"
    }
   ],
   "source": [
    "X_Tra1=pd.DataFrame(tra)\n",
    "fig = plt.figure()\n",
    "#ax1 = plt.axes(projection='3d')\n",
    "j=0\n",
    "x1 = tra[3*j,:] \n",
    "y1 =tra[3*j+1,:]\n",
    "z1 = tra[3*j+2,:]\n",
    "\n",
    "\n",
    "x2 = tra_per_add[3*j,:]#*ex_std+ex_mean\n",
    "y2 =tra_per_add[3*j+1,:]\n",
    "z2 = tra_per_add[3*j+2,:] \n",
    "\n",
    "x3 = tra_per_minus[3*j,:]#*ex_std+ex_mean\n",
    "y3 =tra_per_minus[3*j+1,:]\n",
    "z3 = tra_per_minus[3*j+2,:] \n",
    "fig = plt.figure()\n",
    "#ax=plt.gca()\n",
    "#ax.spines['right'].set_color('none')\n",
    "#ax.spines['top'].set_color('none')\n",
    "plt.plot(x1,y1,'-k', label='$X,~Z_2='+str(round(neural_low_np(tra1, weights_encoder, biases_encoder,weights_L)[0][0],3) )+'$', linewidth=2)\n",
    "plt.plot(x2,y2,'-g', label=r'$X+\\epsilon \\frac{\\partial Z_2}{\\partial X},~Z_2='+str(round(neural_low_np(tra1_per_add, weights_encoder, biases_encoder,weights_L)[0][0],3) )+'$', linewidth=2)\n",
    "plt.plot(x3,y3,'-b', label=r'$X-\\epsilon \\frac{\\partial Z_2}{\\partial X},~Z_2='+str(round(neural_low_np(tra1_per_minus, weights_encoder, biases_encoder,weights_L)[0][0],3) )+'$', linewidth=2)\n",
    "\n",
    "\n",
    "plt.plot(x1[0],y1[0],'rp')\n",
    "plt.plot(x1[299],y1[299],'rp')\n",
    "\n",
    "plt.plot(x2[0],y2[0],'rp')\n",
    "plt.plot(x2[299],y2[299],'rp')\n",
    "\n",
    "plt.plot(x3[0],y3[0],'rp')\n",
    "plt.plot(x3[299],y3[299],'rp')\n",
    "plt.xlim((np.concatenate([x1,x2,x3],0)).min()-5,(np.concatenate([x1,x2,x3],0)).max()+5)\n",
    "plt.ylim( -2.5+(np.concatenate([y1,y2,y3],0)).min(),2.5+(np.concatenate([y1,y2,y3],0)).max())\n",
    "plt.legend()\n",
    "plt.xlabel('$x$',fontsize='20')\n",
    "#plt.ylabel('$Z_3$: second PCA coordinate',fontsize='18')\n",
    "plt.ylabel('$y$ ',fontsize='18')\n",
    "plt.xticks(fontsize=15)\n",
    "plt.yticks(fontsize=15)\n",
    "#plt.title('$Z_1='+str(Z1[i,j])+',Z_2='+str(Z2[i,j])+',Z_3='+str(Z3[i,j])+ '$')\n",
    "plt.show()\n",
    "fig.savefig('z2_pertubation.png',bbox_inches = 'tight',dpi=300)"
   ]
  },
  {
   "cell_type": "code",
   "execution_count": 26,
   "id": "1df08da2",
   "metadata": {},
   "outputs": [
    {
     "data": {
      "text/plain": [
       "<Figure size 432x288 with 0 Axes>"
      ]
     },
     "metadata": {},
     "output_type": "display_data"
    },
    {
     "data": {
      "image/png": "[encoded data removed]",
      "text/plain": [
       "<Figure size 432x288 with 1 Axes>"
      ]
     },
     "metadata": {
      "needs_background": "light"
     },
     "output_type": "display_data"
    }
   ],
   "source": [
    "X_Tra1=pd.DataFrame(tra)\n",
    "fig = plt.figure()\n",
    "#ax1 = plt.axes(projection='3d')\n",
    "j=0\n",
    "x1 = tra[3*j,:] \n",
    "y1 =tra[3*j+1,:]\n",
    "z1 = tra[3*j+2,:]\n",
    "\n",
    "\n",
    "x2 = tra_per_add[3*j,:]#*ex_std+ex_mean\n",
    "y2 =tra_per_add[3*j+1,:]\n",
    "z2 = tra_per_add[3*j+2,:] \n",
    "\n",
    "x3 = tra_per_minus[3*j,:]#*ex_std+ex_mean\n",
    "y3 =tra_per_minus[3*j+1,:]\n",
    "z3 = tra_per_minus[3*j+2,:] \n",
    "fig = plt.figure()\n",
    "#ax=plt.gca()\n",
    "#ax.spines['right'].set_color('none')\n",
    "#ax.spines['top'].set_color('none')\n",
    "plt.plot(x1,z1,'-k', label='$X,~Z_2='+str(round(neural_low_np(tra1, weights_encoder, biases_encoder,weights_L)[0][0],3) )+'$', linewidth=2)\n",
    "plt.plot(x2,z2,'-g', label=r'$X+\\epsilon \\frac{\\partial Z_2}{\\partial X},~Z_2='+str(round(neural_low_np(tra1_per_add, weights_encoder, biases_encoder,weights_L)[0][0],3) )+'$', linewidth=2)\n",
    "plt.plot(x3,z3,'-b', label=r'$X-\\epsilon \\frac{\\partial Z_2}{\\partial X},~Z_2='+str(round(neural_low_np(tra1_per_minus, weights_encoder, biases_encoder,weights_L)[0][0],3) )+'$', linewidth=2)\n",
    "\n",
    "\n",
    "plt.plot(x1[0],z1[0],'rp')\n",
    "plt.plot(x1[299],z1[299],'rp')\n",
    "\n",
    "plt.plot(x2[0],z2[0],'rp')\n",
    "plt.plot(x2[299],z2[299],'rp')\n",
    "\n",
    "plt.plot(x3[0],z3[0],'rp')\n",
    "plt.plot(x3[299],z3[299],'rp')\n",
    "plt.xlim((np.concatenate([x1,x2,x3],0)).min()-5,(np.concatenate([x1,x2,x3],0)).max()+5)\n",
    "plt.ylim( -5+(np.concatenate([z1,z2,z3],0)).min(),5+(np.concatenate([z1,z2,z3],0)).max())\n",
    "plt.legend()\n",
    "plt.xlabel('$x$',fontsize='20')\n",
    "#plt.ylabel('$Z_3$: second PCA coordinate',fontsize='18')\n",
    "plt.ylabel('$z$ ',fontsize='18')\n",
    "plt.xticks(fontsize=15)\n",
    "plt.yticks(fontsize=15)\n",
    "#plt.title('$Z_1='+str(Z1[i,j])+',Z_2='+str(Z2[i,j])+',Z_3='+str(Z3[i,j])+ '$')\n",
    "plt.show()\n",
    "fig.savefig('z2_pertubation_z.png',bbox_inches = 'tight',dpi=300)"
   ]
  },
  {
   "cell_type": "code",
   "execution_count": 27,
   "id": "6d562457",
   "metadata": {},
   "outputs": [
    {
     "data": {
      "text/plain": [
       "(300, 1)"
      ]
     },
     "execution_count": 27,
     "metadata": {},
     "output_type": "execute_result"
    }
   ],
   "source": [
    "x1[:,None].shape"
   ]
  },
  {
   "cell_type": "code",
   "execution_count": 28,
   "id": "f3e4a57c",
   "metadata": {},
   "outputs": [],
   "source": [
    "X_data_Z2=np.concatenate([x1[:,None],y1[:,None],z1[:,None]],1)\n",
    "X_data_add_Z2=np.concatenate([x2[:,None],y2[:,None],z2[:,None]],1)\n",
    "X_data_minus_Z2=np.concatenate([x3[:,None],y3[:,None],z3[:,None]],1)"
   ]
  },
  {
   "cell_type": "code",
   "execution_count": 29,
   "id": "23196f7e",
   "metadata": {},
   "outputs": [
    {
     "data": {
      "text/plain": [
       "(300, 3)"
      ]
     },
     "execution_count": 29,
     "metadata": {},
     "output_type": "execute_result"
    }
   ],
   "source": [
    "X_data_minus_Z2.shape"
   ]
  },
  {
   "cell_type": "code",
   "execution_count": 30,
   "id": "90cbc815",
   "metadata": {},
   "outputs": [
    {
     "data": {
      "text/plain": [
       "(-2.2737367544323206e-15,\n",
       " 2.3681670124157488e-07,\n",
       " -2.3681670654696063e-07,\n",
       " 0.0,\n",
       " 3.9847994533677895e-10,\n",
       " -3.9847994533677895e-10,\n",
       " 0.0,\n",
       " 5.572413404782614e-10,\n",
       " -5.572413404782614e-10)"
      ]
     },
     "execution_count": 30,
     "metadata": {},
     "output_type": "execute_result"
    }
   ],
   "source": [
    "x1.mean(),x2.mean(),x3.mean(),y1.mean(),y2.mean(),y3.mean(),z1.mean(),z2.mean(),z3.mean()"
   ]
  },
  {
   "cell_type": "markdown",
   "id": "e0e757c6",
   "metadata": {},
   "source": [
    "$\\frac{\\partial Z}{\\partial X}$"
   ]
  },
  {
   "cell_type": "code",
   "execution_count": 31,
   "id": "c2587b9b",
   "metadata": {},
   "outputs": [
    {
     "data": {
      "text/plain": [
       "(array([[0.32324757, 4.74909901]]), -37.236000000000004)"
      ]
     },
     "execution_count": 31,
     "metadata": {},
     "output_type": "execute_result"
    }
   ],
   "source": [
    "neural_low_np(tra1, weights_encoder, biases_encoder,weights_L),x1[0]-x1[-1]"
   ]
  },
  {
   "cell_type": "code",
   "execution_count": 32,
   "id": "f4f0f7bb",
   "metadata": {},
   "outputs": [
    {
     "data": {
      "text/plain": [
       "(array([[0.45257634, 4.74909893]]), -55.87802404022217)"
      ]
     },
     "execution_count": 32,
     "metadata": {},
     "output_type": "execute_result"
    }
   ],
   "source": [
    "neural_low_np(tra1_per_add, weights_encoder, biases_encoder,weights_L),x2[0]-x2[-1]"
   ]
  },
  {
   "cell_type": "code",
   "execution_count": 33,
   "id": "0e35b3db",
   "metadata": {},
   "outputs": [
    {
     "data": {
      "text/plain": [
       "(array([[0.19391881, 4.74909909]]), -18.593975959777836)"
      ]
     },
     "execution_count": 33,
     "metadata": {},
     "output_type": "execute_result"
    }
   ],
   "source": [
    "neural_low_np(tra1_per_minus, weights_encoder, biases_encoder,weights_L),x3[0]-x3[-1]"
   ]
  },
  {
   "cell_type": "code",
   "execution_count": 49,
   "id": "326568b1",
   "metadata": {},
   "outputs": [],
   "source": [
    "epsilon=260\n",
    "tra1_per_add3=tra1+epsilon*u_x_Z3/np.sqrt(  np.sum(u_x_Z3**2)  )\n",
    "tra_per_add3=(np.reshape(tra1_per_add3,[300,3])).T\n",
    "\n",
    "tra1_per_minus3=tra1-epsilon*u_x_Z3/np.sqrt(  np.sum(u_x_Z3**2)  )\n",
    "tra_per_minus3=(np.reshape(tra1_per_minus3,[300,3])).T"
   ]
  },
  {
   "cell_type": "code",
   "execution_count": 50,
   "id": "78411e2a",
   "metadata": {},
   "outputs": [
    {
     "data": {
      "text/plain": [
       "<Figure size 432x288 with 0 Axes>"
      ]
     },
     "metadata": {},
     "output_type": "display_data"
    },
    {
     "data": {
      "image/png": "[encoded data removed]",
      "text/plain": [
       "<Figure size 432x288 with 1 Axes>"
      ]
     },
     "metadata": {
      "needs_background": "light"
     },
     "output_type": "display_data"
    }
   ],
   "source": [
    "X_Tra1=pd.DataFrame(tra)\n",
    "fig = plt.figure()\n",
    "#ax1 = plt.axes(projection='3d')\n",
    "j=0\n",
    "x1 = tra[3*j,:] \n",
    "y1 =tra[3*j+1,:]\n",
    "z1 = tra[3*j+2,:]\n",
    "\n",
    "\n",
    "x2 = tra_per_add3[3*j,:]#*ex_std+ex_mean\n",
    "y2 =tra_per_add3[3*j+1,:]\n",
    "z2 = tra_per_add3[3*j+2,:] \n",
    "\n",
    "x3 = tra_per_minus3[3*j,:]#*ex_std+ex_mean\n",
    "y3 =tra_per_minus3[3*j+1,:]\n",
    "z3 = tra_per_minus3[3*j+2,:] \n",
    "fig = plt.figure()\n",
    "# ax=plt.gca()\n",
    "# ax.spines['right'].set_color('none')\n",
    "# ax.spines['top'].set_color('none')\n",
    "plt.plot(x1,z1,'-k', label='$X,~Z_3='+str(round(neural_low_np(tra1, weights_encoder, biases_encoder,weights_L)[0][1],3) )+'$', linewidth=2)\n",
    "plt.plot(x2,z2,'-g', label=r'$X+\\epsilon \\frac{\\partial Z_3}{\\partial X},~Z_3='+str(round(neural_low_np(tra1_per_add3, weights_encoder, biases_encoder,weights_L)[0][1],3) )+'$', linewidth=2)\n",
    "plt.plot(x3,z3,'-b', label=r'$X-\\epsilon \\frac{\\partial Z_3}{\\partial X},~Z_3='+str(round(neural_low_np(tra1_per_minus3, weights_encoder, biases_encoder,weights_L)[0][1],3) )+'$', linewidth=2)\n",
    "plt.plot(x1[0],z1[0],'rp')\n",
    "plt.plot(x1[299],z1[299],'rp')\n",
    "\n",
    "plt.plot(x2[0],z2[0],'rp')\n",
    "plt.plot(x2[299],z2[299],'rp')\n",
    "plt.plot(0,0,'rp')\n",
    "plt.plot(x3[0],z3[0],'rp')\n",
    "plt.plot(x3[299],z3[299],'rp')\n",
    "plt.xlim((np.concatenate([x1,x2,x3],0)).min()-1,(np.concatenate([x1,x2,x3],0)).max()+1)\n",
    "plt.ylim( -5+(np.concatenate([z1,z2,z3],0)).min(),5+(np.concatenate([z1,z2,z3],0)).max())\n",
    "plt.legend()\n",
    "plt.xlabel('$x$',fontsize='20')\n",
    "#plt.ylabel('$Z_3$: second PCA coordinate',fontsize='18')\n",
    "plt.ylabel('$z$ ',fontsize='20')\n",
    "plt.xticks(fontsize=15)\n",
    "plt.yticks(fontsize=15)\n",
    "#plt.title('$Z_1='+str(Z1[i,j])+',Z_2='+str(Z2[i,j])+',Z_3='+str(Z3[i,j])+ '$')\n",
    "plt.show()\n",
    "fig.savefig('z3_pertubation_z.png',bbox_inches = 'tight',dpi=300)"
   ]
  },
  {
   "cell_type": "code",
   "execution_count": null,
   "id": "01dc1d93",
   "metadata": {},
   "outputs": [],
   "source": [
    "7.903,1.595,4.749"
   ]
  },
  {
   "cell_type": "code",
   "execution_count": 51,
   "id": "f582fd9b",
   "metadata": {},
   "outputs": [],
   "source": [
    "X_data_Z3=np.concatenate([x1[:,None],y1[:,None],z1[:,None]],1)\n",
    "X_data_add_Z3=np.concatenate([x2[:,None],y2[:,None],z2[:,None]],1)\n",
    "X_data_minus_Z3=np.concatenate([x3[:,None],y3[:,None],z3[:,None]],1)"
   ]
  },
  {
   "cell_type": "code",
   "execution_count": 52,
   "id": "f7438655",
   "metadata": {},
   "outputs": [],
   "source": [
    "sample_list = {\"X_data_Z2\": X_data_Z2, \"X_data_add_Z2\": X_data_add_Z2,\"X_data_minus_Z2\":X_data_minus_Z2,\"X_data_Z3\": X_data_Z3, \"X_data_add_Z3\": X_data_add_Z3,\"X_data_minus_Z3\":X_data_minus_Z3}\n",
    "file_name = 'Z2_Z3.pkl'\n",
    "open_file = open(file_name, \"wb\")\n",
    "pickle.dump(sample_list, open_file)\n",
    "open_file.close()"
   ]
  },
  {
   "cell_type": "code",
   "execution_count": 53,
   "id": "c7802d6b",
   "metadata": {},
   "outputs": [],
   "source": [
    "np.savetxt('X_data_Z2.txt',np.array(X_data_Z2),fmt='%10.5e')\n",
    "np.savetxt('X_data_add_Z2.txt',np.array(X_data_add_Z2),fmt='%10.5e')\n",
    "np.savetxt('X_data_minus_Z2.txt',np.array(X_data_minus_Z2),fmt='%10.5e')\n",
    "np.savetxt('X_data_Z3.txt',np.array(X_data_Z3),fmt='%10.5e')\n",
    "np.savetxt('X_data_add_Z3.txt',np.array(X_data_add_Z3),fmt='%10.5e')\n",
    "np.savetxt('X_data_minus_Z3.txt',np.array(X_data_minus_Z3),fmt='%10.5e')"
   ]
  },
  {
   "cell_type": "code",
   "execution_count": null,
   "id": "b9d246f6",
   "metadata": {},
   "outputs": [],
   "source": []
  },
  {
   "cell_type": "markdown",
   "id": "e54c40ac",
   "metadata": {},
   "source": [
    "$X+\\epsilon \\nabla_X(Z)$"
   ]
  },
  {
   "cell_type": "code",
   "execution_count": 64,
   "id": "501e8aa4",
   "metadata": {},
   "outputs": [
    {
     "data": {
      "text/plain": [
       "4.749099007174898"
      ]
     },
     "execution_count": 64,
     "metadata": {},
     "output_type": "execute_result"
    }
   ],
   "source": [
    "neural_low_np(tra1, weights_encoder, biases_encoder,weights_L)[0][1]"
   ]
  },
  {
   "cell_type": "code",
   "execution_count": 65,
   "id": "6feee7f6",
   "metadata": {},
   "outputs": [
    {
     "data": {
      "text/plain": [
       "4.75"
      ]
     },
     "execution_count": 65,
     "metadata": {},
     "output_type": "execute_result"
    }
   ],
   "source": [
    "round(neural_low_np(tra1, weights_encoder, biases_encoder,weights_L)[0][1], 2)  "
   ]
  },
  {
   "cell_type": "code",
   "execution_count": null,
   "id": "54f1d507",
   "metadata": {},
   "outputs": [],
   "source": []
  },
  {
   "cell_type": "code",
   "execution_count": null,
   "id": "fbd51f83",
   "metadata": {},
   "outputs": [],
   "source": []
  }
 ],
 "metadata": {
  "kernelspec": {
   "display_name": "Python 3",
   "language": "python",
   "name": "python3"
  },
  "language_info": {
   "codemirror_mode": {
    "name": "ipython",
    "version": 3
   },
   "file_extension": ".py",
   "mimetype": "text/x-python",
   "name": "python",
   "nbconvert_exporter": "python",
   "pygments_lexer": "ipython3",
   "version": "3.8.8"
  },
  "vscode": {
   "interpreter": {
    "hash": "97cc609b13305c559618ec78a438abc56230b9381f827f22d070313b9a1f3777"
   }
  }
 },
 "nbformat": 4,
 "nbformat_minor": 5
}
