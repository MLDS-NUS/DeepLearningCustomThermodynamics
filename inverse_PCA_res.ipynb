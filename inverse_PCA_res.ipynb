{
 "cells": [
  {
   "cell_type": "code",
   "execution_count": 1,
   "metadata": {
    "scrolled": true
   },
   "outputs": [
    {
     "name": "stderr",
     "output_type": "stream",
     "text": [
      "2023-09-05 12:12:02.532079: I tensorflow/core/util/util.cc:169] oneDNN custom operations are on. You may see slightly different numerical results due to floating-point round-off errors from different computation orders. To turn them off, set the environment variable `TF_ENABLE_ONEDNN_OPTS=0`.\n",
      "2023-09-05 12:12:02.538168: W tensorflow/stream_executor/platform/default/dso_loader.cc:64] Could not load dynamic library 'libcudart.so.11.0'; dlerror: libcudart.so.11.0: cannot open shared object file: No such file or directory\n",
      "2023-09-05 12:12:02.538185: I tensorflow/stream_executor/cuda/cudart_stub.cc:29] Ignore above cudart dlerror if you do not have a GPU set up on your machine.\n"
     ]
    },
    {
     "name": "stdout",
     "output_type": "stream",
     "text": [
      "WARNING:tensorflow:From /home/eleonore/.local/lib/python3.8/site-packages/tensorflow/python/compat/v2_compat.py:107: disable_resource_variables (from tensorflow.python.ops.variable_scope) is deprecated and will be removed in a future version.\n",
      "Instructions for updating:\n",
      "non-resource variables are not supported in the long term\n"
     ]
    }
   ],
   "source": [
    "import tensorflow.compat.v1 as tf\n",
    "tf.disable_v2_behavior()\n",
    "import numpy as np\n",
    "import matplotlib.pyplot as plt\n",
    "import pickle"
   ]
  },
  {
   "cell_type": "code",
   "execution_count": 2,
   "metadata": {},
   "outputs": [],
   "source": [
    "# physical_devices = tf.config.experimental.list_physical_devices('GPU')\n",
    "# assert len(physical_devices) > 0, \"Not enough GPU hardware devices available\"\n",
    "# tf.config.experimental.set_memory_growth(physical_devices[0], True)"
   ]
  },
  {
   "cell_type": "code",
   "execution_count": 3,
   "metadata": {},
   "outputs": [],
   "source": [
    "import os\n",
    "os.environ['TF_FORCE_GPU_ALLOW_GROWTH']='true'\n",
    "os.environ['CUDA_VISIBLE_DEVICES'] = \"3\""
   ]
  },
  {
   "cell_type": "code",
   "execution_count": 4,
   "metadata": {},
   "outputs": [],
   "source": [
    "tf.random.set_random_seed(0)\n",
    "np.random.seed(seed=0 )"
   ]
  },
  {
   "cell_type": "code",
   "execution_count": 5,
   "metadata": {},
   "outputs": [],
   "source": [
    "N_start=0\n",
    "N_tra=610\n",
    "T_step=1001\n",
    "N_bead=300\n",
    "dim_x=900\n",
    "N_conf=0\n",
    "dic=''"
   ]
  },
  {
   "cell_type": "markdown",
   "metadata": {},
   "source": [
    "Initialize the weights"
   ]
  },
  {
   "cell_type": "code",
   "execution_count": 6,
   "metadata": {},
   "outputs": [],
   "source": [
    "def xavier_init(size):\n",
    "    in_dim = size[0]\n",
    "    out_dim = size[1]        \n",
    "    xavier_stddev = np.sqrt(2.0/(in_dim + out_dim))\n",
    "    return tf.Variable(tf.truncated_normal([in_dim, out_dim], stddev=xavier_stddev,dtype=tf.float32,seed=0), dtype=tf.float32)"
   ]
  },
  {
   "cell_type": "code",
   "execution_count": 7,
   "metadata": {},
   "outputs": [],
   "source": [
    "def RePU(inputs):\n",
    "    \"\"\"Rectified Power Unit Activation\n",
    "\n",
    "    z->max(0,z)^p\n",
    "    \"\"\"\n",
    "    return (tf.nn.relu(inputs)  )**2\n",
    "\n",
    "\n",
    "def ShiftedRePU(inputs):\n",
    "    \"\"\"Shifted Rectified Power Unit Activation\n",
    "\n",
    "    z->max(0,z)^p - max(0,z-0.5)^p\n",
    "    \"\"\"\n",
    "    g=(tf.nn.relu(inputs)  )**2-(tf.nn.relu(inputs-0.5)  )**2\n",
    "    return g"
   ]
  },
  {
   "cell_type": "markdown",
   "metadata": {},
   "source": [
    "generate $\\phi$"
   ]
  },
  {
   "cell_type": "markdown",
   "metadata": {},
   "source": [
    "Neural network for potential term\n",
    "$V(x)=\\beta  ||x||^2 +\\frac{1}{2} \\sum_{i=1}^{m} (U_i(x)+\\sum_{j=1}^m \\gamma_{i,j}x_i)^2$\n",
    "where $U_i(x)=w \\phi_i(x)+b$"
   ]
  },
  {
   "cell_type": "code",
   "execution_count": 8,
   "metadata": {},
   "outputs": [],
   "source": [
    "def neural_potential(X, weights, biases,Gamma,beta):\n",
    "    num_layers = len(weights) + 1  \n",
    "    H=X\n",
    "    for l in range(0,num_layers-2):\n",
    "        W = weights[l]\n",
    "        b = biases[l]\n",
    "        H = ShiftedRePU(tf.add(tf.matmul(H, W), b))\n",
    "    W = weights[-1]\n",
    "    b = biases[-1]\n",
    "    Y = 1/2*tf.reduce_sum( ( tf.matmul(X, Gamma[0])   +(tf.add(tf.matmul(H, W), b)) )**2 ,1, keepdims=True)+beta[0]*tf.reduce_sum(X**2, axis=1, keepdims=True)\n",
    "    return Y"
   ]
  },
  {
   "cell_type": "markdown",
   "metadata": {},
   "source": [
    "Neural network for M and W"
   ]
  },
  {
   "cell_type": "code",
   "execution_count": 9,
   "metadata": {},
   "outputs": [],
   "source": [
    "def neural_A(X, weights, biases ):\n",
    "    num_layers = len(weights) + 1  \n",
    "    H=X\n",
    "    for l in range(0,num_layers-1):\n",
    "        W = weights[l]\n",
    "        b = biases[l]\n",
    "        H = tf.nn.tanh(tf.add(tf.matmul(H, W), b))\n",
    "#     W = weights[-1]\n",
    "#     b = biases[-1]\n",
    "#     Y = tf.add(tf.matmul(H, W), b) \n",
    "    return H"
   ]
  },
  {
   "cell_type": "code",
   "execution_count": 10,
   "metadata": {},
   "outputs": [],
   "source": [
    "def SymmAntiDecomposition( inputs,dim_low):\n",
    "    A = tf.reshape(inputs, [-1, dim_low, dim_low])#### 1 *  dim_low  *dim_low\n",
    "    lower_triangle = tf.linalg.band_part(A, -1, 0)\n",
    "    upper_triangle = tf.linalg.band_part(A, 0, -1)\n",
    "    symmetric = lower_triangle @ tf.transpose(lower_triangle, [0, 2, 1])  # 1 *  dim_low  *dim_low\n",
    "    antisymmetric = upper_triangle - tf.transpose(upper_triangle,\n",
    "                                                  [0, 2, 1])               # 1 *  dim_low  *dim_low\n",
    "    return symmetric, antisymmetric"
   ]
  },
  {
   "cell_type": "code",
   "execution_count": 11,
   "metadata": {},
   "outputs": [],
   "source": [
    "def neural_SymmAnti(X,  weights_A, biases_A,dim_low):\n",
    "    A=neural_A(X, weights_A, biases_A)\n",
    "    M,W=SymmAntiDecomposition( A,dim_low)\n",
    "    return M,W   # 1 *  dim_low  *dim_low"
   ]
  },
  {
   "cell_type": "markdown",
   "metadata": {},
   "source": [
    "Neural network for force term :$f(x)=wx+b$"
   ]
  },
  {
   "cell_type": "code",
   "execution_count": 12,
   "metadata": {},
   "outputs": [],
   "source": [
    "def neural_force(X, weights, biases ):\n",
    "    num_layers = len(weights) + 1  \n",
    "    H=X\n",
    "    for l in range(0,num_layers-2):\n",
    "        W = weights[l]\n",
    "        b = biases[l]\n",
    "        H = tf.nn.tanh(tf.add(tf.matmul(H, W), b))\n",
    "    W = weights[-1]\n",
    "    b = biases[-1]\n",
    "    Y =  tf.add(tf.matmul(H, W), b)\n",
    "    return Y"
   ]
  },
  {
   "cell_type": "markdown",
   "metadata": {},
   "source": [
    "Neural network for the drift term"
   ]
  },
  {
   "cell_type": "code",
   "execution_count": 13,
   "metadata": {},
   "outputs": [],
   "source": [
    "def neural_RHS(X, weights_potential, biases_potential,Gamma,beta , weights_force, biases_force,weights_A, biases_A,dim_low, alpha):\n",
    "    \"\"\"Combination Layer for OnsagerNet\n",
    "\n",
    "    Takes as input a tuple [M, W, g, f] and outputs\n",
    "    - (M + W) g - alpha * g + f\n",
    "    \"\"\" \n",
    "    M,W=neural_SymmAnti(X,  weights_A, biases_A,dim_low)#  5w *dim_low * dim_low\n",
    "    V=neural_potential(X, weights_potential, biases_potential,Gamma,beta)\n",
    "    V_x= tf.gradients(V, X)[0]\n",
    "    f=neural_force(X, weights_force, biases_force )\n",
    "    #rhs=-V_x @(M+W)- alpha * V_x + f  \n",
    "    #rhs=-((M+W)@V_x[:,:,None])[:,:,0]- alpha * V_x + f  \n",
    "    rhs=-tf.einsum('ijk,ik->ij', M + W, V_x) - alpha * V_x +0* f  #     #  5w *dim_low\n",
    "    return rhs"
   ]
  },
  {
   "cell_type": "markdown",
   "metadata": {},
   "source": [
    "Neural network for the low dimension:PCA or autoencoder"
   ]
  },
  {
   "cell_type": "code",
   "execution_count": 14,
   "metadata": {},
   "outputs": [],
   "source": [
    "def neural_sample(X, weights, biases ):\n",
    "    num_layers = len(weights) + 1  \n",
    "    H=X\n",
    "    for l in range(0,num_layers-2):\n",
    "        W = weights[l]\n",
    "        b = biases[l]\n",
    "        H = tf.nn.tanh(tf.add(tf.matmul(H, W), b))\n",
    "    W = weights[-1]\n",
    "    Y =   tf.matmul(H, W) \n",
    "    return Y"
   ]
  },
  {
   "cell_type": "code",
   "execution_count": 15,
   "metadata": {},
   "outputs": [],
   "source": [
    "def generate_data_1trajectory(path,N0,N1):\n",
    "    N_tra=N1-N0\n",
    "    a_tra=np.linspace(N0,N1-1,N1-N0,dtype=int)\n",
    "    data = pickle.load(open(path, 'rb'))\n",
    "    a_test=np.linspace(0,2,3 ,dtype=int)\n",
    "    X_all_t0=np.zeros([(T_step-1)*N_tra ,3*N_bead])\n",
    "    X_all_t1=np.zeros([(T_step-1)*N_tra ,3*N_bead])\n",
    "    X_all=np.zeros([T_step*N_tra ,3*N_bead])\n",
    "    L_test=np.linspace(0,T_step-1,T_step,dtype=int)\n",
    "    for i in a_tra:\n",
    "        X_all_1=np.zeros([T_step ,3*N_bead])\n",
    "        W_1=data['Trajectory' + str(i+1) ]\n",
    "        for j in range(N_bead):\n",
    "            XX=np.reshape(W_1[:,j],[1001,3])\n",
    "            X_all_1[:,a_test+3*j]=XX\n",
    "        X_all[(i-N0)*T_step+L_test,:]=X_all_1\n",
    "        X_all_t0[(i-N0)*(T_step-1)+L_test[:-1],:]=X_all_1[:-1,:]\n",
    "        X_all_t1[(i-N0)*(T_step-1)+L_test[:-1],:]=X_all_1[1:,:]\n",
    "    del(data)\n",
    "    del(W_1)\n",
    "    return X_all_t0,X_all_t1,X_all"
   ]
  },
  {
   "cell_type": "code",
   "execution_count": 16,
   "metadata": {},
   "outputs": [],
   "source": [
    "def generate_Z1_1trajectory(path,N0,N1):\n",
    "    N_tra=N1-N0\n",
    "    conf=0\n",
    "    data = pickle.load(open(path, 'rb'))\n",
    "    Z1_trajectory_train=data['Wi5' ]\n",
    "    Z1_trajectory_train=(Z1_trajectory_train-Z_mean)/Z_std\n",
    "    T_test=np.linspace(N0,N1-1,N1-N0,dtype=int)\n",
    "    Z1_all=np.reshape(Z1_trajectory_train[conf*N_tra+T_test,:],[N_tra*T_step,1])\n",
    "    Z1_all_t0=np.reshape(Z1_trajectory_train[conf*N_tra+T_test,:-1],[N_tra*(T_step-1),1])\n",
    "    Z1_all_t1=np.reshape(Z1_trajectory_train[conf*N_tra+T_test,1:],[N_tra*(T_step-1),1])\n",
    "    del(data)\n",
    "    del(Z1_trajectory_train)\n",
    "    return Z1_all_t0,Z1_all_t1,Z1_all"
   ]
  },
  {
   "cell_type": "code",
   "execution_count": 17,
   "metadata": {},
   "outputs": [],
   "source": [
    "def neural_autoencoder(X, weights, biases ):\n",
    "    num_layers = len(weights) + 1  \n",
    "    H=X\n",
    "    for l in range(0,num_layers-2):\n",
    "        W = weights[l]\n",
    "        b = biases[l]\n",
    "        H = np.tanh(np.add(np.matmul(H, W), b))\n",
    "    W = weights[-1]\n",
    "    b = biases[-1]\n",
    "    H =  (np.add(np.matmul(H, W), b))\n",
    "    return H"
   ]
  },
  {
   "cell_type": "code",
   "execution_count": 18,
   "metadata": {},
   "outputs": [],
   "source": [
    "def neural_low(X, weights_encoder, biases_encoder,weights_L):\n",
    "    X_low_PCA=X @weights_L[0]\n",
    "    X_low_encoder= neural_autoencoder(X,weights_encoder, biases_encoder)\n",
    "    return X_low_PCA+X_low_encoder"
   ]
  },
  {
   "cell_type": "markdown",
   "metadata": {},
   "source": [
    "NN for potential"
   ]
  },
  {
   "cell_type": "code",
   "execution_count": 19,
   "metadata": {},
   "outputs": [],
   "source": [
    "dim_low=3\n",
    "dim_output=50\n",
    "\n",
    "layers = [dim_low ] +1* [128] + [dim_output ]\n",
    "L = len(layers)\n",
    "weights_potential = [xavier_init([layers[l], layers[l+1]]) for l in range(0, L-1)]    \n",
    "biases_potential = [tf.Variable( tf.zeros((1, layers[l+1]),dtype=tf.float32)) for l in range(0, L-1)]\n",
    "\n",
    "layers_L = [dim_low ] +   [dim_output ]\n",
    "Gamma = [xavier_init([layers_L[0], layers_L[-1]]) ]\n",
    "beta=[tf.exp( tf.Variable(0,dtype=tf.float32,trainable=True) )]"
   ]
  },
  {
   "cell_type": "markdown",
   "metadata": {},
   "source": [
    "NN for A"
   ]
  },
  {
   "cell_type": "code",
   "execution_count": 20,
   "metadata": {},
   "outputs": [],
   "source": [
    "layers_A= [dim_low]   +2*[20]+ [dim_low *dim_low]\n",
    "L_A = len(layers_A)\n",
    "weights_A= [xavier_init([layers_A[l], layers_A[l+1]])  for l in range(0, L_A-1)]    \n",
    "biases_A = [tf.Variable( tf.zeros((1, layers_A[l+1]),dtype=tf.float32)) for l in range(0, L_A-1)]   "
   ]
  },
  {
   "cell_type": "markdown",
   "metadata": {},
   "source": [
    "NN for force"
   ]
  },
  {
   "cell_type": "code",
   "execution_count": 21,
   "metadata": {},
   "outputs": [],
   "source": [
    "layers_force = [dim_low] + 0* [20] + [dim_low]\n",
    "L_force = len(layers_force)\n",
    "weights_force = [xavier_init([layers_force[l], layers_force[l+1]]) for l in range(0, L_force-1)]   \n",
    "biases_force = [tf.Variable( tf.zeros((1, layers_force [l+1]),dtype=tf.float32)) for l in range(0, L_force -1)]"
   ]
  },
  {
   "cell_type": "markdown",
   "metadata": {},
   "source": [
    "NN for low dimension # PCA or auto encoder"
   ]
  },
  {
   "cell_type": "code",
   "execution_count": 22,
   "metadata": {},
   "outputs": [],
   "source": [
    "#THIS PART IS CRUCIAL - Should not be pre_loaded...\n",
    "data=pickle.load(open('hyper20000.pkl', 'rb'))\n",
    "weights_encoder=data[\"weights_encoder\"]\n",
    "biases_encoder=data[\"biases_encoder\"]\n",
    "\n",
    "weights_decoder=data[\"weights_decoder\"]\n",
    "biases_decoder=data[\"biases_decoder\"]\n",
    "\n",
    "weights_L=data[\"weights_L\"]"
   ]
  },
  {
   "cell_type": "code",
   "execution_count": 23,
   "metadata": {},
   "outputs": [],
   "source": [
    "t0=0\n",
    "t1=0.5\n",
    "dt=(t1-t0)/(T_step)\n",
    "vect=np.linspace(t0,t1,T_step+1)"
   ]
  },
  {
   "cell_type": "code",
   "execution_count": 24,
   "metadata": {},
   "outputs": [],
   "source": [
    "sigma=tf.exp(  tf.Variable(np.zeros(dim_low),dtype=tf.float32,trainable=True) )\n",
    "alpha=  tf.Variable(0.1,dtype=tf.float32,trainable=False) "
   ]
  },
  {
   "cell_type": "markdown",
   "metadata": {},
   "source": [
    "meta data"
   ]
  },
  {
   "cell_type": "code",
   "execution_count": 25,
   "metadata": {},
   "outputs": [],
   "source": [
    "data_meta=pickle.load(open(dic+'ex_train800.pkl', 'rb'))\n",
    "Z1_ex = data_meta['Wi5'][:610,:]"
   ]
  },
  {
   "cell_type": "code",
   "execution_count": 26,
   "metadata": {},
   "outputs": [
    {
     "name": "stdout",
     "output_type": "stream",
     "text": [
      "DNA elongation mean = 208.219945 and standard deviation = 69.796242 \n"
     ]
    }
   ],
   "source": [
    "Z_mean=Z1_ex.mean()\n",
    "Z_std=Z1_ex.std()\n",
    "print(\"DNA elongation mean = %f and standard deviation = %f \" % (Z_mean,Z_std))"
   ]
  },
  {
   "cell_type": "code",
   "execution_count": 27,
   "metadata": {},
   "outputs": [
    {
     "data": {
      "image/png": "[encoded data removed]",
      "text/plain": [
       "<Figure size 432x288 with 1 Axes>"
      ]
     },
     "metadata": {
      "needs_background": "light"
     },
     "output_type": "display_data"
    }
   ],
   "source": [
    "for i in range(N_start,N_tra):\n",
    "    plt.plot(Z1_ex[i])\n",
    "    \n",
    "del(Z1_ex)\n",
    "del(data_meta)    "
   ]
  },
  {
   "cell_type": "code",
   "execution_count": 28,
   "metadata": {},
   "outputs": [],
   "source": [
    "loss_trajectory=0\n",
    "i=N_conf\n",
    "\n",
    "path_meta =dic+'ex_train800.pkl'\n",
    "Z1_trajectory_meta=generate_Z1_1trajectory(path_meta,0,N_tra)"
   ]
  },
  {
   "cell_type": "code",
   "execution_count": 29,
   "metadata": {},
   "outputs": [],
   "source": [
    "Z_t0_meta=Z1_trajectory_meta[0]\n",
    "Z_t1_meta=Z1_trajectory_meta[1]\n",
    "del(Z1_trajectory_meta)"
   ]
  },
  {
   "cell_type": "code",
   "execution_count": null,
   "metadata": {},
   "outputs": [],
   "source": [
    "path_meta_tra =dic+'config_train_mean_every.pkl'\n",
    "X_trajectory_meta=generate_data_1trajectory(path_meta_tra,0,N_tra)#Z0 Z1 Z_all"
   ]
  },
  {
   "cell_type": "code",
   "execution_count": null,
   "metadata": {},
   "outputs": [],
   "source": [
    "aa=neural_autoencoder(X_trajectory_meta[2],weights_encoder, biases_encoder)"
   ]
  },
  {
   "cell_type": "code",
   "execution_count": null,
   "metadata": {},
   "outputs": [],
   "source": [
    "aa1=np.reshape(aa[:,0],[N_tra,T_step])\n",
    "for i in range(N_tra):\n",
    "    plt.plot(aa1[i,:]) \n",
    "plt.xlabel('$t$',fontsize='20') \n",
    "plt.ylabel('$Z2-Z2_{PCA}$  ')#,fontsize='20') "
   ]
  },
  {
   "cell_type": "code",
   "execution_count": null,
   "metadata": {},
   "outputs": [],
   "source": [
    "aa1=np.reshape(aa[:,1],[N_tra,T_step])\n",
    "for i in range(N_tra):\n",
    "    plt.plot(aa1[i,:]) \n",
    "plt.xlabel('$t$',fontsize='20') \n",
    "plt.ylabel('$Z3-Z3_{PCA}$  ')#,fontsize='20') "
   ]
  },
  {
   "cell_type": "code",
   "execution_count": null,
   "metadata": {},
   "outputs": [],
   "source": [
    "X_t0_meta=neural_low(X_trajectory_meta[0], weights_encoder, biases_encoder,weights_L  )\n",
    "X_t1_meta=neural_low(X_trajectory_meta[1], weights_encoder, biases_encoder,weights_L  ) \n",
    "X_t_meta=neural_low(X_trajectory_meta[2], weights_encoder, biases_encoder,weights_L  ) \n",
    "del(X_trajectory_meta)"
   ]
  },
  {
   "cell_type": "code",
   "execution_count": null,
   "metadata": {},
   "outputs": [],
   "source": [
    "aa1=np.reshape(X_t_meta[:,0],[N_tra,T_step])\n",
    "for i in range(N_tra):\n",
    "    plt.plot(aa1[i,:])"
   ]
  },
  {
   "cell_type": "code",
   "execution_count": null,
   "metadata": {},
   "outputs": [],
   "source": [
    "aa2=np.reshape(X_t_meta[:,1],[N_tra,T_step])\n",
    "for i in range(N_tra):\n",
    "    plt.plot(aa2[i,:])"
   ]
  },
  {
   "cell_type": "code",
   "execution_count": null,
   "metadata": {},
   "outputs": [],
   "source": [
    "Z_t0_all_meta=np.concatenate((Z_t0_meta,X_t0_meta), axis=1)\n",
    "Z_t1_all_meta=np.concatenate((Z_t1_meta,X_t1_meta), axis=1)\n",
    "Z_t0_tf_all_meta=[tf.cast(Z_t0_all_meta[:,j][:,None] , dtype=tf.float32)  for j in range(dim_low) ]\n",
    "ZZ_t0_tf_all_meta=tf.concat(Z_t0_tf_all_meta,1 )\n",
    "neural_g_meta=neural_RHS(ZZ_t0_tf_all_meta, weights_potential, biases_potential,Gamma,beta , weights_force, biases_force,weights_A, biases_A,dim_low, alpha)\n",
    "int_g_meta=   dt/2*( ((Z_t1_all_meta-Z_t0_all_meta)/dt-neural_g_meta)*(1/(sigma[None,:])) )**2+tf.log( sigma[None,:]) #500000,dim_low"
   ]
  },
  {
   "cell_type": "code",
   "execution_count": null,
   "metadata": {},
   "outputs": [],
   "source": [
    "ZZ_t0_tf_all_meta"
   ]
  },
  {
   "cell_type": "code",
   "execution_count": null,
   "metadata": {},
   "outputs": [],
   "source": [
    "int_g_train_vector=tf.reduce_mean(tf.square(  int_g_meta  ) ,0  ) \n",
    "int_g_train_vector"
   ]
  },
  {
   "cell_type": "code",
   "execution_count": null,
   "metadata": {},
   "outputs": [],
   "source": [
    "Z_t0_all_meta.shape"
   ]
  },
  {
   "cell_type": "code",
   "execution_count": null,
   "metadata": {},
   "outputs": [],
   "source": [
    "ode_train_meta=(Z_t1_all_meta-Z_t0_all_meta)/dt-neural_g_meta\n",
    "loss_ode_meta  = tf.reduce_mean(tf.square(  ode_train_meta  )   ) \n",
    "loss_sigma_meta= tf.reduce_mean(tf.square(  sigma**2-dt*tf.reduce_mean( tf.square(  ode_train_meta  ) ,0 )  ))\n",
    "\n",
    "loss_ode=loss_ode_meta\n",
    "loss_sigma=loss_sigma_meta"
   ]
  },
  {
   "cell_type": "code",
   "execution_count": null,
   "metadata": {},
   "outputs": [],
   "source": [
    "loss_ode_train_vector=tf.reduce_mean(tf.square(  ode_train_meta  ) ,0  ) \n",
    "loss_ode_train_vector"
   ]
  },
  {
   "cell_type": "code",
   "execution_count": null,
   "metadata": {},
   "outputs": [],
   "source": [
    "loss_meta=tf.reduce_mean(int_g_meta)  \n",
    "loss=loss_meta "
   ]
  },
  {
   "cell_type": "code",
   "execution_count": null,
   "metadata": {},
   "outputs": [],
   "source": [
    "N1_test=0\n",
    "N2_test=110\n",
    "path_ex_test = \"ex_test.pkl\"\n",
    "path_config_test = \"config_test_mean_every.pkl\""
   ]
  },
  {
   "cell_type": "code",
   "execution_count": null,
   "metadata": {},
   "outputs": [],
   "source": [
    "Z1_trajectory_meta_test=generate_Z1_1trajectory(path_ex_test,N1_test,N2_test)\n",
    "Z_t0_meta_test=Z1_trajectory_meta_test[0]\n",
    "Z_t1_meta_test=Z1_trajectory_meta_test[1]"
   ]
  },
  {
   "cell_type": "code",
   "execution_count": null,
   "metadata": {},
   "outputs": [],
   "source": [
    "X_trajectory_meta_test=generate_data_1trajectory(path_config_test,N1_test,N2_test)\n",
    "X_t0_meta_test=neural_low(X_trajectory_meta_test[0], weights_encoder, biases_encoder,weights_L  )\n",
    "X_t1_meta_test=neural_low(X_trajectory_meta_test[1], weights_encoder, biases_encoder,weights_L ) \n",
    "X_t_meta_test=neural_low(X_trajectory_meta_test[2], weights_encoder, biases_encoder,weights_L  ) \n",
    "Z_t0_all_meta_test=np.concatenate((Z_t0_meta_test,X_t0_meta_test), axis=1)\n",
    "Z_t1_all_meta_test=np.concatenate((Z_t1_meta_test,X_t1_meta_test), axis=1)\n",
    "Z_t0_tf_all_meta_test=[tf.cast(Z_t0_all_meta_test[:,j][:,None] , dtype=tf.float32)  for j in range(dim_low) ]\n",
    "ZZ_t0_tf_all_meta_test=tf.concat(Z_t0_tf_all_meta_test,1 )\n",
    "neural_g_meta_test=neural_RHS(ZZ_t0_tf_all_meta_test, weights_potential, biases_potential,Gamma,beta , weights_force, biases_force,weights_A, biases_A,dim_low, alpha)\n",
    "int_g_meta_test=   dt/2*( ((Z_t1_all_meta_test-Z_t0_all_meta_test)/dt-neural_g_meta_test)*(1/(sigma[None,:])) )**2+tf.log( sigma[None,:]) #500000,dim_low"
   ]
  },
  {
   "cell_type": "code",
   "execution_count": null,
   "metadata": {},
   "outputs": [],
   "source": [
    "int_g_test_vector=tf.reduce_mean(tf.square(  int_g_meta_test  ) ,0  ) \n",
    "int_g_test_vector"
   ]
  },
  {
   "cell_type": "code",
   "execution_count": null,
   "metadata": {},
   "outputs": [],
   "source": [
    "ode_test_meta=(Z_t1_all_meta_test-Z_t0_all_meta_test)/dt-neural_g_meta_test\n",
    "loss_ode_meta_test  = tf.reduce_mean(tf.square(  ode_test_meta  )   ) \n",
    "loss_sigma_meta_test= tf.reduce_mean(tf.square(  sigma**2-dt*tf.reduce_mean( tf.square(  ode_test_meta  ) ,0 )  ))\n",
    "\n",
    "loss_ode_test= loss_ode_meta_test\n",
    "loss_sigma_test=loss_sigma_meta_test "
   ]
  },
  {
   "cell_type": "code",
   "execution_count": null,
   "metadata": {},
   "outputs": [],
   "source": [
    "loss_meta_test=tf.reduce_mean(int_g_meta_test)  \n",
    "loss_test=loss_meta_test "
   ]
  },
  {
   "cell_type": "code",
   "execution_count": null,
   "metadata": {},
   "outputs": [],
   "source": [
    "loss_ode_test_vector=tf.reduce_mean(tf.square(  ode_test_meta  ) ,0  ) \n",
    "loss_ode_test_vector"
   ]
  },
  {
   "cell_type": "code",
   "execution_count": null,
   "metadata": {},
   "outputs": [],
   "source": [
    "optimizer_Adam1 = tf.train.AdamOptimizer(1e-3)\n",
    "train_op1 = optimizer_Adam1.minimize(loss)"
   ]
  },
  {
   "cell_type": "code",
   "execution_count": 54,
   "metadata": {},
   "outputs": [],
   "source": [
    "loss_ode_record=[]\n",
    "loss_sigma_record=[]\n",
    "loss_ode_test_record=[]\n",
    "loss_sigma_test_record=[]\n",
    "loss_record = []\n",
    "loss_meta_record = [] \n",
    "\n",
    "loss_test_record = []\n",
    "loss_meta_test_record = [] \n",
    "\n",
    "loss_ode_train_vector_record=[]\n",
    "loss_ode_test_vector_record=[]\n",
    "\n",
    "int_g_train_vector_record=[]\n",
    "int_g_test_vector_record=[]\n",
    "\n",
    "\n",
    "loss_reg_record = []\n",
    "beta_record = []\n",
    "alpha_record=[]\n",
    "sigma_record = []\n",
    "config = tf.ConfigProto()\n",
    "config.gpu_options.allow_growth = True"
   ]
  },
  {
   "cell_type": "code",
   "execution_count": null,
   "metadata": {},
   "outputs": [],
   "source": [
    "mkdir result_new"
   ]
  },
  {
   "cell_type": "code",
   "execution_count": 55,
   "metadata": {
    "scrolled": false
   },
   "outputs": [
    {
     "name": "stderr",
     "output_type": "stream",
     "text": [
      "2023-09-04 23:22:09.559599: I tensorflow/core/platform/cpu_feature_guard.cc:193] This TensorFlow binary is optimized with oneAPI Deep Neural Network Library (oneDNN) to use the following CPU instructions in performance-critical operations:  AVX2 AVX512F AVX512_VNNI FMA\n",
      "To enable them in other operations, rebuild TensorFlow with the appropriate compiler flags.\n",
      "2023-09-04 23:22:09.575931: W tensorflow/stream_executor/platform/default/dso_loader.cc:64] Could not load dynamic library 'libcuda.so.1'; dlerror: libcuda.so.1: cannot open shared object file: No such file or directory\n",
      "2023-09-04 23:22:09.575958: W tensorflow/stream_executor/cuda/cuda_driver.cc:269] failed call to cuInit: UNKNOWN ERROR (303)\n",
      "2023-09-04 23:22:09.575985: I tensorflow/stream_executor/cuda/cuda_diagnostics.cc:156] kernel driver does not appear to be running on this host (eleonore-ThinkBook-13s-G2-ITL): /proc/driver/nvidia/version does not exist\n",
      "2023-09-04 23:22:09.617552: I tensorflow/compiler/mlir/mlir_graph_optimization_pass.cc:354] MLIR V1 optimization pass is not enabled\n"
     ]
    },
    {
     "ename": "KeyboardInterrupt",
     "evalue": "",
     "output_type": "error",
     "traceback": [
      "\u001b[0;31m---------------------------------------------------------------------------\u001b[0m",
      "\u001b[0;31mKeyboardInterrupt\u001b[0m                         Traceback (most recent call last)",
      "Input \u001b[0;32mIn [55]\u001b[0m, in \u001b[0;36m<module>\u001b[0;34m\u001b[0m\n\u001b[1;32m      2\u001b[0m sess\u001b[38;5;241m.\u001b[39mrun(tf\u001b[38;5;241m.\u001b[39mglobal_variables_initializer())\n\u001b[1;32m      3\u001b[0m \u001b[38;5;28;01mfor\u001b[39;00m i \u001b[38;5;129;01min\u001b[39;00m \u001b[38;5;28mrange\u001b[39m(\u001b[38;5;241m1001\u001b[39m):\u001b[38;5;66;03m#001):\u001b[39;00m\n\u001b[0;32m----> 4\u001b[0m     \u001b[43msess\u001b[49m\u001b[38;5;241;43m.\u001b[39;49m\u001b[43mrun\u001b[49m\u001b[43m(\u001b[49m\u001b[43mtrain_op1\u001b[49m\u001b[43m)\u001b[49m\n\u001b[1;32m      5\u001b[0m     \u001b[38;5;28;01mif\u001b[39;00m i \u001b[38;5;241m%\u001b[39m \u001b[38;5;241m10\u001b[39m \u001b[38;5;241m==\u001b[39m \u001b[38;5;241m0\u001b[39m:\n\u001b[1;32m      6\u001b[0m         (loss_result,loss_meta_result, loss_test_result,loss_meta_test_result ) \u001b[38;5;241m=\u001b[39m sess\u001b[38;5;241m.\u001b[39mrun([loss,loss_meta ,loss_test,loss_meta_test   ])\n",
      "File \u001b[0;32m~/.local/lib/python3.8/site-packages/tensorflow/python/client/session.py:967\u001b[0m, in \u001b[0;36mBaseSession.run\u001b[0;34m(self, fetches, feed_dict, options, run_metadata)\u001b[0m\n\u001b[1;32m    964\u001b[0m run_metadata_ptr \u001b[38;5;241m=\u001b[39m tf_session\u001b[38;5;241m.\u001b[39mTF_NewBuffer() \u001b[38;5;28;01mif\u001b[39;00m run_metadata \u001b[38;5;28;01melse\u001b[39;00m \u001b[38;5;28;01mNone\u001b[39;00m\n\u001b[1;32m    966\u001b[0m \u001b[38;5;28;01mtry\u001b[39;00m:\n\u001b[0;32m--> 967\u001b[0m   result \u001b[38;5;241m=\u001b[39m \u001b[38;5;28;43mself\u001b[39;49m\u001b[38;5;241;43m.\u001b[39;49m\u001b[43m_run\u001b[49m\u001b[43m(\u001b[49m\u001b[38;5;28;43;01mNone\u001b[39;49;00m\u001b[43m,\u001b[49m\u001b[43m \u001b[49m\u001b[43mfetches\u001b[49m\u001b[43m,\u001b[49m\u001b[43m \u001b[49m\u001b[43mfeed_dict\u001b[49m\u001b[43m,\u001b[49m\u001b[43m \u001b[49m\u001b[43moptions_ptr\u001b[49m\u001b[43m,\u001b[49m\n\u001b[1;32m    968\u001b[0m \u001b[43m                     \u001b[49m\u001b[43mrun_metadata_ptr\u001b[49m\u001b[43m)\u001b[49m\n\u001b[1;32m    969\u001b[0m   \u001b[38;5;28;01mif\u001b[39;00m run_metadata:\n\u001b[1;32m    970\u001b[0m     proto_data \u001b[38;5;241m=\u001b[39m tf_session\u001b[38;5;241m.\u001b[39mTF_GetBuffer(run_metadata_ptr)\n",
      "File \u001b[0;32m~/.local/lib/python3.8/site-packages/tensorflow/python/client/session.py:1190\u001b[0m, in \u001b[0;36mBaseSession._run\u001b[0;34m(self, handle, fetches, feed_dict, options, run_metadata)\u001b[0m\n\u001b[1;32m   1187\u001b[0m \u001b[38;5;66;03m# We only want to really perform the run if fetches or targets are provided,\u001b[39;00m\n\u001b[1;32m   1188\u001b[0m \u001b[38;5;66;03m# or if the call is a partial run that specifies feeds.\u001b[39;00m\n\u001b[1;32m   1189\u001b[0m \u001b[38;5;28;01mif\u001b[39;00m final_fetches \u001b[38;5;129;01mor\u001b[39;00m final_targets \u001b[38;5;129;01mor\u001b[39;00m (handle \u001b[38;5;129;01mand\u001b[39;00m feed_dict_tensor):\n\u001b[0;32m-> 1190\u001b[0m   results \u001b[38;5;241m=\u001b[39m \u001b[38;5;28;43mself\u001b[39;49m\u001b[38;5;241;43m.\u001b[39;49m\u001b[43m_do_run\u001b[49m\u001b[43m(\u001b[49m\u001b[43mhandle\u001b[49m\u001b[43m,\u001b[49m\u001b[43m \u001b[49m\u001b[43mfinal_targets\u001b[49m\u001b[43m,\u001b[49m\u001b[43m \u001b[49m\u001b[43mfinal_fetches\u001b[49m\u001b[43m,\u001b[49m\n\u001b[1;32m   1191\u001b[0m \u001b[43m                         \u001b[49m\u001b[43mfeed_dict_tensor\u001b[49m\u001b[43m,\u001b[49m\u001b[43m \u001b[49m\u001b[43moptions\u001b[49m\u001b[43m,\u001b[49m\u001b[43m \u001b[49m\u001b[43mrun_metadata\u001b[49m\u001b[43m)\u001b[49m\n\u001b[1;32m   1192\u001b[0m \u001b[38;5;28;01melse\u001b[39;00m:\n\u001b[1;32m   1193\u001b[0m   results \u001b[38;5;241m=\u001b[39m []\n",
      "File \u001b[0;32m~/.local/lib/python3.8/site-packages/tensorflow/python/client/session.py:1370\u001b[0m, in \u001b[0;36mBaseSession._do_run\u001b[0;34m(self, handle, target_list, fetch_list, feed_dict, options, run_metadata)\u001b[0m\n\u001b[1;32m   1367\u001b[0m   \u001b[38;5;28;01mreturn\u001b[39;00m \u001b[38;5;28mself\u001b[39m\u001b[38;5;241m.\u001b[39m_call_tf_sessionprun(handle, feed_dict, fetch_list)\n\u001b[1;32m   1369\u001b[0m \u001b[38;5;28;01mif\u001b[39;00m handle \u001b[38;5;129;01mis\u001b[39;00m \u001b[38;5;28;01mNone\u001b[39;00m:\n\u001b[0;32m-> 1370\u001b[0m   \u001b[38;5;28;01mreturn\u001b[39;00m \u001b[38;5;28;43mself\u001b[39;49m\u001b[38;5;241;43m.\u001b[39;49m\u001b[43m_do_call\u001b[49m\u001b[43m(\u001b[49m\u001b[43m_run_fn\u001b[49m\u001b[43m,\u001b[49m\u001b[43m \u001b[49m\u001b[43mfeeds\u001b[49m\u001b[43m,\u001b[49m\u001b[43m \u001b[49m\u001b[43mfetches\u001b[49m\u001b[43m,\u001b[49m\u001b[43m \u001b[49m\u001b[43mtargets\u001b[49m\u001b[43m,\u001b[49m\u001b[43m \u001b[49m\u001b[43moptions\u001b[49m\u001b[43m,\u001b[49m\n\u001b[1;32m   1371\u001b[0m \u001b[43m                       \u001b[49m\u001b[43mrun_metadata\u001b[49m\u001b[43m)\u001b[49m\n\u001b[1;32m   1372\u001b[0m \u001b[38;5;28;01melse\u001b[39;00m:\n\u001b[1;32m   1373\u001b[0m   \u001b[38;5;28;01mreturn\u001b[39;00m \u001b[38;5;28mself\u001b[39m\u001b[38;5;241m.\u001b[39m_do_call(_prun_fn, handle, feeds, fetches)\n",
      "File \u001b[0;32m~/.local/lib/python3.8/site-packages/tensorflow/python/client/session.py:1377\u001b[0m, in \u001b[0;36mBaseSession._do_call\u001b[0;34m(self, fn, *args)\u001b[0m\n\u001b[1;32m   1375\u001b[0m \u001b[38;5;28;01mdef\u001b[39;00m \u001b[38;5;21m_do_call\u001b[39m(\u001b[38;5;28mself\u001b[39m, fn, \u001b[38;5;241m*\u001b[39margs):\n\u001b[1;32m   1376\u001b[0m   \u001b[38;5;28;01mtry\u001b[39;00m:\n\u001b[0;32m-> 1377\u001b[0m     \u001b[38;5;28;01mreturn\u001b[39;00m \u001b[43mfn\u001b[49m\u001b[43m(\u001b[49m\u001b[38;5;241;43m*\u001b[39;49m\u001b[43margs\u001b[49m\u001b[43m)\u001b[49m\n\u001b[1;32m   1378\u001b[0m   \u001b[38;5;28;01mexcept\u001b[39;00m errors\u001b[38;5;241m.\u001b[39mOpError \u001b[38;5;28;01mas\u001b[39;00m e:\n\u001b[1;32m   1379\u001b[0m     message \u001b[38;5;241m=\u001b[39m compat\u001b[38;5;241m.\u001b[39mas_text(e\u001b[38;5;241m.\u001b[39mmessage)\n",
      "File \u001b[0;32m~/.local/lib/python3.8/site-packages/tensorflow/python/client/session.py:1360\u001b[0m, in \u001b[0;36mBaseSession._do_run.<locals>._run_fn\u001b[0;34m(feed_dict, fetch_list, target_list, options, run_metadata)\u001b[0m\n\u001b[1;32m   1357\u001b[0m \u001b[38;5;28;01mdef\u001b[39;00m \u001b[38;5;21m_run_fn\u001b[39m(feed_dict, fetch_list, target_list, options, run_metadata):\n\u001b[1;32m   1358\u001b[0m   \u001b[38;5;66;03m# Ensure any changes to the graph are reflected in the runtime.\u001b[39;00m\n\u001b[1;32m   1359\u001b[0m   \u001b[38;5;28mself\u001b[39m\u001b[38;5;241m.\u001b[39m_extend_graph()\n\u001b[0;32m-> 1360\u001b[0m   \u001b[38;5;28;01mreturn\u001b[39;00m \u001b[38;5;28;43mself\u001b[39;49m\u001b[38;5;241;43m.\u001b[39;49m\u001b[43m_call_tf_sessionrun\u001b[49m\u001b[43m(\u001b[49m\u001b[43moptions\u001b[49m\u001b[43m,\u001b[49m\u001b[43m \u001b[49m\u001b[43mfeed_dict\u001b[49m\u001b[43m,\u001b[49m\u001b[43m \u001b[49m\u001b[43mfetch_list\u001b[49m\u001b[43m,\u001b[49m\n\u001b[1;32m   1361\u001b[0m \u001b[43m                                  \u001b[49m\u001b[43mtarget_list\u001b[49m\u001b[43m,\u001b[49m\u001b[43m \u001b[49m\u001b[43mrun_metadata\u001b[49m\u001b[43m)\u001b[49m\n",
      "File \u001b[0;32m~/.local/lib/python3.8/site-packages/tensorflow/python/client/session.py:1453\u001b[0m, in \u001b[0;36mBaseSession._call_tf_sessionrun\u001b[0;34m(self, options, feed_dict, fetch_list, target_list, run_metadata)\u001b[0m\n\u001b[1;32m   1451\u001b[0m \u001b[38;5;28;01mdef\u001b[39;00m \u001b[38;5;21m_call_tf_sessionrun\u001b[39m(\u001b[38;5;28mself\u001b[39m, options, feed_dict, fetch_list, target_list,\n\u001b[1;32m   1452\u001b[0m                         run_metadata):\n\u001b[0;32m-> 1453\u001b[0m   \u001b[38;5;28;01mreturn\u001b[39;00m \u001b[43mtf_session\u001b[49m\u001b[38;5;241;43m.\u001b[39;49m\u001b[43mTF_SessionRun_wrapper\u001b[49m\u001b[43m(\u001b[49m\u001b[38;5;28;43mself\u001b[39;49m\u001b[38;5;241;43m.\u001b[39;49m\u001b[43m_session\u001b[49m\u001b[43m,\u001b[49m\u001b[43m \u001b[49m\u001b[43moptions\u001b[49m\u001b[43m,\u001b[49m\u001b[43m \u001b[49m\u001b[43mfeed_dict\u001b[49m\u001b[43m,\u001b[49m\n\u001b[1;32m   1454\u001b[0m \u001b[43m                                          \u001b[49m\u001b[43mfetch_list\u001b[49m\u001b[43m,\u001b[49m\u001b[43m \u001b[49m\u001b[43mtarget_list\u001b[49m\u001b[43m,\u001b[49m\n\u001b[1;32m   1455\u001b[0m \u001b[43m                                          \u001b[49m\u001b[43mrun_metadata\u001b[49m\u001b[43m)\u001b[49m\n",
      "\u001b[0;31mKeyboardInterrupt\u001b[0m: "
     ]
    }
   ],
   "source": [
    "with tf.Session(config=config) as sess:\n",
    "    sess.run(tf.global_variables_initializer())\n",
    "    for i in range(100001):\n",
    "        sess.run(train_op1)\n",
    "        if i % 20000 == 0:\n",
    "            (loss_result,loss_meta_result, loss_test_result,loss_meta_test_result ) = sess.run([loss,loss_meta ,loss_test,loss_meta_test   ])\n",
    "            ( loss_ode_result,loss_sigma_result,loss_ode_test_result,loss_sigma_test_result) = sess.run([ loss_ode,loss_sigma,loss_ode_test,loss_sigma_test  ])\n",
    "            (loss_ode_train_vector_result,loss_ode_test_vector_result,int_g_train_vector_result,int_g_test_vector_result)=sess.run([loss_ode_train_vector,loss_ode_test_vector ,int_g_train_vector,int_g_test_vector  ])\n",
    "            int_g_train_vector_record.append(int_g_train_vector_result)\n",
    "            int_g_test_vector_record.append(int_g_test_vector_result)\n",
    " \n",
    "            loss_ode_train_vector_record.append(loss_ode_train_vector_result)\n",
    "            loss_ode_test_vector_record.append(loss_ode_test_vector_result)\n",
    "\n",
    "            temp_sigma=sess.run(sigma)\n",
    "            temp_alpha=sess.run(alpha)\n",
    "            \n",
    "\n",
    "            loss_ode_record.append(loss_ode_result) \n",
    "            loss_sigma_record.append(loss_sigma_result) \n",
    "            loss_ode_test_record.append(loss_ode_test_result) \n",
    "            loss_sigma_test_record.append(loss_sigma_test_result) \n",
    "            \n",
    "            \n",
    "            loss_record.append(loss_result)\n",
    "            loss_meta_record.append(loss_meta_result) \n",
    "            loss_test_record.append(loss_test_result)\n",
    "            loss_meta_test_record.append(loss_meta_test_result) \n",
    "            \n",
    "            sigma_record.append(temp_sigma)\n",
    "            alpha_record.append(temp_alpha)\n",
    "            print ('  %d  %8.2e  %8.2e  %8.2e    %8.2e    %8.2e  %8.2e  %8.2e  %8.2e   %8.2e   %8.2e  %8.2e  %8.2e   %8.2e  %8.2e   %8.2e  %8.2e %8.2e  %8.2e' % (i,loss_ode_result,loss_sigma_result, loss_ode_test_result,loss_sigma_test_result, loss_result,loss_meta_result, loss_test_result,loss_meta_test_result, temp_sigma[0],temp_sigma[1],temp_sigma[2] ,temp_alpha ,loss_ode_train_vector_result[0],loss_ode_train_vector_result[1],loss_ode_train_vector_result[2] ,int_g_train_vector_result[0],int_g_train_vector_result[1],int_g_train_vector_result[2]  ) )\n",
    "        if i% 50000==0:\n",
    "            (weights_potential_np,biases_potential_np,Gamma_np,beta_np, weights_A_np,biases_A_np,weights_force_np,biases_force_np)=sess.run([weights_potential,biases_potential,Gamma,beta,weights_A,biases_A,weights_force,biases_force])\n",
    "            sample_list = {\"weights_potential\": weights_potential_np, \"biases_potential\": biases_potential_np,\"Gamma\":Gamma_np,\"beta\":beta_np,  \"weights_L\": weights_L, \"sigma\":temp_sigma,\"weights_A\": weights_A_np, \"biases_A\": biases_A_np,\"weights_encoder\": weights_encoder , \"biases_encoder\": biases_encoder ,\"weights_decoder\": weights_decoder , \"biases_decoder\": biases_decoder, \"weights_force\":weights_force, \"biases_force\":biases_force}\n",
    "            file_name = './result_new/hyper' + str(i) + '.pkl'\n",
    "            open_file = open(file_name, \"wb\")\n",
    "            pickle.dump(sample_list, open_file)\n",
    "            open_file.close()\n",
    "\n",
    "\n",
    "            np.savetxt('./result_new/loss_ode-mat.txt',np.array(loss_ode_record),fmt='%10.5e') \n",
    "            np.savetxt('./result_new/loss_sigma-mat.txt',np.array(loss_sigma_record),fmt='%10.5e') \n",
    "            np.savetxt('./result_new/loss_ode_test-mat.txt',np.array(loss_ode_test_record),fmt='%10.5e') \n",
    "            np.savetxt('./result_new/loss_sigma_test-mat.txt',np.array(loss_sigma_test_record),fmt='%10.5e') \n",
    "            \n",
    "            np.savetxt('./result_new/loss-mat.txt',np.array(loss_record),fmt='%10.5e')\n",
    "            np.savetxt('./result_new/loss_meta-mat.txt',np.array(loss_meta_record),fmt='%10.5e') \n",
    "            np.savetxt('./result_new/loss_test-mat.txt',np.array(loss_test_record),fmt='%10.5e')\n",
    "            np.savetxt('./result_new/loss_meta_test-mat.txt',np.array(loss_meta_test_record),fmt='%10.5e') \n",
    "            np.savetxt('./result_new/loss_ode_train_vector.txt',np.array(loss_ode_train_vector_record),fmt='%10.5e')\n",
    "            np.savetxt('./result_new/loss_ode_test_vector.txt',np.array(loss_ode_test_vector_record),fmt='%10.5e')\n",
    "            np.savetxt('./result_new/int_g_train_vector.txt',np.array(int_g_train_vector_record),fmt='%10.5e')\n",
    "            np.savetxt('./result_new/int_g_test_vector.txt',np.array(int_g_test_vector_record),fmt='%10.5e')\n",
    "            np.savetxt('./result_new/sigma-mat.txt',np.array(sigma_record),fmt='%10.5e')\n",
    "            np.savetxt('./result_new/beta-mat.txt',np.array(beta_np),fmt='%10.5e')\n",
    "            np.savetxt('./result_new/alpha-mat.txt',np.array(alpha_record),fmt='%10.5e')\n",
    "\n",
    "            np.savetxt('./result_new/Gamma.txt',np.array(Gamma_np[0]),fmt='%10.5e')"
   ]
  },
  {
   "cell_type": "code",
   "execution_count": null,
   "metadata": {},
   "outputs": [],
   "source": []
  }
 ],
 "metadata": {
  "kernelspec": {
   "display_name": "Python 3 (ipykernel)",
   "language": "python",
   "name": "python3"
  },
  "language_info": {
   "codemirror_mode": {
    "name": "ipython",
    "version": 3
   },
   "file_extension": ".py",
   "mimetype": "text/x-python",
   "name": "python",
   "nbconvert_exporter": "python",
   "pygments_lexer": "ipython3",
   "version": "3.8.10"
  }
 },
 "nbformat": 4,
 "nbformat_minor": 4
}
